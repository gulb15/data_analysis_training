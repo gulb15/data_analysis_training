{
  "nbformat": 4,
  "nbformat_minor": 0,
  "metadata": {
    "colab": {
      "name": "pandas",
      "provenance": [],
      "collapsed_sections": [],
      "authorship_tag": "ABX9TyNRVpsO6KPamQ3qMe+yWVnQ",
      "include_colab_link": true
    },
    "kernelspec": {
      "name": "python3",
      "display_name": "Python 3"
    },
    "language_info": {
      "name": "python"
    }
  },
  "cells": [
    {
      "cell_type": "markdown",
      "metadata": {
        "id": "view-in-github",
        "colab_type": "text"
      },
      "source": [
        "<a href=\"https://colab.research.google.com/github/gulb15/data_analysis_training/blob/main/pandas.ipynb\" target=\"_parent\"><img src=\"https://colab.research.google.com/assets/colab-badge.svg\" alt=\"Open In Colab\"/></a>"
      ]
    },
    {
      "cell_type": "code",
      "metadata": {
        "id": "NUGLtaH0ew_P"
      },
      "source": [
        "import pandas as pd"
      ],
      "execution_count": 1,
      "outputs": []
    },
    {
      "cell_type": "code",
      "metadata": {
        "colab": {
          "base_uri": "https://localhost:8080/"
        },
        "id": "ys6Pqr6ZeyeB",
        "outputId": "13bc0daa-a87b-4fd7-f805-c33c28c41b6d"
      },
      "source": [
        "s1 = pd.Series([1,2,3,442,212],name='xyz')\n",
        "s1"
      ],
      "execution_count": 2,
      "outputs": [
        {
          "output_type": "execute_result",
          "data": {
            "text/plain": [
              "0      1\n",
              "1      2\n",
              "2      3\n",
              "3    442\n",
              "4    212\n",
              "Name: xyz, dtype: int64"
            ]
          },
          "metadata": {
            "tags": []
          },
          "execution_count": 2
        }
      ]
    },
    {
      "cell_type": "code",
      "metadata": {
        "colab": {
          "base_uri": "https://localhost:8080/"
        },
        "id": "3muysu4ee5Q5",
        "outputId": "eb467424-1faa-45eb-a6b4-dfd9e439c9fa"
      },
      "source": [
        "s1 = pd.Series([100,201,302,403,504],index=[2001,2002,2003,2004,2005],name='xyz')\n",
        "s1"
      ],
      "execution_count": 26,
      "outputs": [
        {
          "output_type": "execute_result",
          "data": {
            "text/plain": [
              "2001    100\n",
              "2002    201\n",
              "2003    302\n",
              "2004    403\n",
              "2005    504\n",
              "Name: xyz, dtype: int64"
            ]
          },
          "metadata": {
            "tags": []
          },
          "execution_count": 26
        }
      ]
    },
    {
      "cell_type": "code",
      "metadata": {
        "colab": {
          "base_uri": "https://localhost:8080/"
        },
        "id": "jM8XQhrRe__R",
        "outputId": "6fe379fe-8c19-4ad0-ac3b-1591913b74d1"
      },
      "source": [
        "s1.loc[1:4]"
      ],
      "execution_count": 27,
      "outputs": [
        {
          "output_type": "execute_result",
          "data": {
            "text/plain": [
              "Series([], Name: xyz, dtype: int64)"
            ]
          },
          "metadata": {
            "tags": []
          },
          "execution_count": 27
        }
      ]
    },
    {
      "cell_type": "code",
      "metadata": {
        "colab": {
          "base_uri": "https://localhost:8080/"
        },
        "id": "ib-cluu8fIn0",
        "outputId": "c30f4cf2-f03e-4697-d83a-0b4bc4e22849"
      },
      "source": [
        "s1"
      ],
      "execution_count": 28,
      "outputs": [
        {
          "output_type": "execute_result",
          "data": {
            "text/plain": [
              "2001    100\n",
              "2002    201\n",
              "2003    302\n",
              "2004    403\n",
              "2005    504\n",
              "Name: xyz, dtype: int64"
            ]
          },
          "metadata": {
            "tags": []
          },
          "execution_count": 28
        }
      ]
    },
    {
      "cell_type": "code",
      "metadata": {
        "id": "tBcvN6WXfJ2B"
      },
      "source": [
        "s1.sort_index(inplace=True)"
      ],
      "execution_count": 29,
      "outputs": []
    },
    {
      "cell_type": "code",
      "metadata": {
        "colab": {
          "base_uri": "https://localhost:8080/"
        },
        "id": "M-GKRsSCfVD9",
        "outputId": "7c860a58-f870-4bcb-83f4-bd07b49017f7"
      },
      "source": [
        "s1"
      ],
      "execution_count": 30,
      "outputs": [
        {
          "output_type": "execute_result",
          "data": {
            "text/plain": [
              "2001    100\n",
              "2002    201\n",
              "2003    302\n",
              "2004    403\n",
              "2005    504\n",
              "Name: xyz, dtype: int64"
            ]
          },
          "metadata": {
            "tags": []
          },
          "execution_count": 30
        }
      ]
    },
    {
      "cell_type": "code",
      "metadata": {
        "colab": {
          "base_uri": "https://localhost:8080/"
        },
        "id": "tJ7NF-PefV5r",
        "outputId": "31feaada-83e8-415b-f007-0cc57588977e"
      },
      "source": [
        "s1.iloc[1:3]"
      ],
      "execution_count": 31,
      "outputs": [
        {
          "output_type": "execute_result",
          "data": {
            "text/plain": [
              "2002    201\n",
              "2003    302\n",
              "Name: xyz, dtype: int64"
            ]
          },
          "metadata": {
            "tags": []
          },
          "execution_count": 31
        }
      ]
    },
    {
      "cell_type": "code",
      "metadata": {
        "colab": {
          "base_uri": "https://localhost:8080/"
        },
        "id": "Qif2iYOPfZPW",
        "outputId": "54671733-f82c-4982-c83c-d3a7c0bab567"
      },
      "source": [
        "s1>400"
      ],
      "execution_count": 32,
      "outputs": [
        {
          "output_type": "execute_result",
          "data": {
            "text/plain": [
              "2001    False\n",
              "2002    False\n",
              "2003    False\n",
              "2004     True\n",
              "2005     True\n",
              "Name: xyz, dtype: bool"
            ]
          },
          "metadata": {
            "tags": []
          },
          "execution_count": 32
        }
      ]
    },
    {
      "cell_type": "code",
      "metadata": {
        "colab": {
          "base_uri": "https://localhost:8080/"
        },
        "id": "JDFTtwdsfjLy",
        "outputId": "09db3506-4213-485e-fce2-1dd8ec495eba"
      },
      "source": [
        "s1[s1>506]"
      ],
      "execution_count": 33,
      "outputs": [
        {
          "output_type": "execute_result",
          "data": {
            "text/plain": [
              "Series([], Name: xyz, dtype: int64)"
            ]
          },
          "metadata": {
            "tags": []
          },
          "execution_count": 33
        }
      ]
    },
    {
      "cell_type": "code",
      "metadata": {
        "colab": {
          "base_uri": "https://localhost:8080/"
        },
        "id": "HBeYMM2Mfr9E",
        "outputId": "3bd08fc4-e634-4b47-adf9-645ceecacda0"
      },
      "source": [
        "#iter items\n",
        "list(s1.iteritems())"
      ],
      "execution_count": 34,
      "outputs": [
        {
          "output_type": "execute_result",
          "data": {
            "text/plain": [
              "[(2001, 100), (2002, 201), (2003, 302), (2004, 403), (2005, 504)]"
            ]
          },
          "metadata": {
            "tags": []
          },
          "execution_count": 34
        }
      ]
    },
    {
      "cell_type": "code",
      "metadata": {
        "colab": {
          "base_uri": "https://localhost:8080/"
        },
        "id": "gRmQQBiPf3n2",
        "outputId": "d83d314c-16a8-41d2-91d3-f1f16a8ab3e0"
      },
      "source": [
        "for idx,val in s1.iteritems():\n",
        "  print(idx,val)"
      ],
      "execution_count": 37,
      "outputs": [
        {
          "output_type": "stream",
          "text": [
            "2001 100\n",
            "2002 201\n",
            "2003 302\n",
            "2004 403\n",
            "2005 504\n"
          ],
          "name": "stdout"
        }
      ]
    },
    {
      "cell_type": "code",
      "metadata": {
        "id": "-800tmusgGnV"
      },
      "source": [
        "for idx,val in s1.iteritems():\n",
        "  s1[idx]+=10"
      ],
      "execution_count": 40,
      "outputs": []
    },
    {
      "cell_type": "code",
      "metadata": {
        "colab": {
          "base_uri": "https://localhost:8080/"
        },
        "id": "2wnCuA6_gSNV",
        "outputId": "92e00d5b-00d3-4219-d3c2-58d3b1ef8ad9"
      },
      "source": [
        "s1"
      ],
      "execution_count": 41,
      "outputs": [
        {
          "output_type": "execute_result",
          "data": {
            "text/plain": [
              "2001    110\n",
              "2002    211\n",
              "2003    312\n",
              "2004    413\n",
              "2005    514\n",
              "Name: xyz, dtype: int64"
            ]
          },
          "metadata": {
            "tags": []
          },
          "execution_count": 41
        }
      ]
    },
    {
      "cell_type": "code",
      "metadata": {
        "colab": {
          "base_uri": "https://localhost:8080/"
        },
        "id": "Ns5pkz3ZgWtX",
        "outputId": "ebe6dc05-8253-4907-f5c5-2bda02c5a003"
      },
      "source": [
        "s1.keys()"
      ],
      "execution_count": 42,
      "outputs": [
        {
          "output_type": "execute_result",
          "data": {
            "text/plain": [
              "Int64Index([2001, 2002, 2003, 2004, 2005], dtype='int64')"
            ]
          },
          "metadata": {
            "tags": []
          },
          "execution_count": 42
        }
      ]
    },
    {
      "cell_type": "code",
      "metadata": {
        "id": "_dLujHLIgYIZ"
      },
      "source": [
        "#slicing can be also done as passing a list of indexes\n",
        "#s1.loc[2001,2003]"
      ],
      "execution_count": 49,
      "outputs": []
    },
    {
      "cell_type": "code",
      "metadata": {
        "id": "e2jtoubKge4Q"
      },
      "source": [
        "#operators\n",
        "s1= pd.Series([1,2,3,4],index=[2001,2002,2003,2004])\n",
        "s2=pd.Series([12,13,14,15,16],index=[2001,2004,2007,2008,2009])"
      ],
      "execution_count": 50,
      "outputs": []
    },
    {
      "cell_type": "code",
      "metadata": {
        "colab": {
          "base_uri": "https://localhost:8080/"
        },
        "id": "KGROEWeSg_PC",
        "outputId": "e3d964e2-19f5-4a13-cc27-216852116a0f"
      },
      "source": [
        "s1+s2 #rest whose index is not there will become NaN"
      ],
      "execution_count": 51,
      "outputs": [
        {
          "output_type": "execute_result",
          "data": {
            "text/plain": [
              "2001    13.0\n",
              "2002     NaN\n",
              "2003     NaN\n",
              "2004    17.0\n",
              "2007     NaN\n",
              "2008     NaN\n",
              "2009     NaN\n",
              "dtype: float64"
            ]
          },
          "metadata": {
            "tags": []
          },
          "execution_count": 51
        }
      ]
    },
    {
      "cell_type": "code",
      "metadata": {
        "colab": {
          "base_uri": "https://localhost:8080/"
        },
        "id": "G3be0rCwhBHc",
        "outputId": "99db95d3-ee9c-4882-ac8e-b868a5aec016"
      },
      "source": [
        "s1-s2"
      ],
      "execution_count": 52,
      "outputs": [
        {
          "output_type": "execute_result",
          "data": {
            "text/plain": [
              "2001   -11.0\n",
              "2002     NaN\n",
              "2003     NaN\n",
              "2004    -9.0\n",
              "2007     NaN\n",
              "2008     NaN\n",
              "2009     NaN\n",
              "dtype: float64"
            ]
          },
          "metadata": {
            "tags": []
          },
          "execution_count": 52
        }
      ]
    },
    {
      "cell_type": "code",
      "metadata": {
        "id": "0mhal0dshVIn"
      },
      "source": [
        "#Reset INdex\n"
      ],
      "execution_count": 55,
      "outputs": []
    },
    {
      "cell_type": "code",
      "metadata": {
        "colab": {
          "base_uri": "https://localhost:8080/"
        },
        "id": "Ew220U6FhYvy",
        "outputId": "b84a3ae6-69de-4e82-db2d-1f8bb58a73f4"
      },
      "source": [
        "s1"
      ],
      "execution_count": 56,
      "outputs": [
        {
          "output_type": "execute_result",
          "data": {
            "text/plain": [
              "2001    1\n",
              "2002    2\n",
              "2003    3\n",
              "2004    4\n",
              "dtype: int64"
            ]
          },
          "metadata": {
            "tags": []
          },
          "execution_count": 56
        }
      ]
    },
    {
      "cell_type": "code",
      "metadata": {
        "colab": {
          "base_uri": "https://localhost:8080/",
          "height": 172
        },
        "id": "dsqQ5f3uhkMp",
        "outputId": "59071676-3d2f-4c57-9ab8-0f0070d726d0"
      },
      "source": [
        "#we want to make dataframe using new index as well so we canuse reste index\n",
        "#used to generate new dataframe or series\n",
        "# useful when index needs to be treated as column\n",
        "# or if index is meaningless we have to drop it\n",
        "#\n",
        "#\n",
        "# Series.reset_index(self,level=None,drop=False,name=None,inplace=True)\n",
        "\n",
        "s1.reset_index()"
      ],
      "execution_count": 57,
      "outputs": [
        {
          "output_type": "execute_result",
          "data": {
            "text/html": [
              "<div>\n",
              "<style scoped>\n",
              "    .dataframe tbody tr th:only-of-type {\n",
              "        vertical-align: middle;\n",
              "    }\n",
              "\n",
              "    .dataframe tbody tr th {\n",
              "        vertical-align: top;\n",
              "    }\n",
              "\n",
              "    .dataframe thead th {\n",
              "        text-align: right;\n",
              "    }\n",
              "</style>\n",
              "<table border=\"1\" class=\"dataframe\">\n",
              "  <thead>\n",
              "    <tr style=\"text-align: right;\">\n",
              "      <th></th>\n",
              "      <th>index</th>\n",
              "      <th>0</th>\n",
              "    </tr>\n",
              "  </thead>\n",
              "  <tbody>\n",
              "    <tr>\n",
              "      <th>0</th>\n",
              "      <td>2001</td>\n",
              "      <td>1</td>\n",
              "    </tr>\n",
              "    <tr>\n",
              "      <th>1</th>\n",
              "      <td>2002</td>\n",
              "      <td>2</td>\n",
              "    </tr>\n",
              "    <tr>\n",
              "      <th>2</th>\n",
              "      <td>2003</td>\n",
              "      <td>3</td>\n",
              "    </tr>\n",
              "    <tr>\n",
              "      <th>3</th>\n",
              "      <td>2004</td>\n",
              "      <td>4</td>\n",
              "    </tr>\n",
              "  </tbody>\n",
              "</table>\n",
              "</div>"
            ],
            "text/plain": [
              "   index  0\n",
              "0   2001  1\n",
              "1   2002  2\n",
              "2   2003  3\n",
              "3   2004  4"
            ]
          },
          "metadata": {
            "tags": []
          },
          "execution_count": 57
        }
      ]
    },
    {
      "cell_type": "code",
      "metadata": {
        "colab": {
          "base_uri": "https://localhost:8080/"
        },
        "id": "04cX-ocwh8mn",
        "outputId": "afcab00a-11d2-42bf-f7a5-2fac63d1ac67"
      },
      "source": [
        "type(s1.reset_index())"
      ],
      "execution_count": 58,
      "outputs": [
        {
          "output_type": "execute_result",
          "data": {
            "text/plain": [
              "pandas.core.frame.DataFrame"
            ]
          },
          "metadata": {
            "tags": []
          },
          "execution_count": 58
        }
      ]
    },
    {
      "cell_type": "code",
      "metadata": {
        "colab": {
          "base_uri": "https://localhost:8080/"
        },
        "id": "cOBWcrZSiGQy",
        "outputId": "13c1a1e7-94e2-4385-a4b3-21e566bf43c3"
      },
      "source": [
        "s1 #remains unchanged"
      ],
      "execution_count": 60,
      "outputs": [
        {
          "output_type": "execute_result",
          "data": {
            "text/plain": [
              "2001    1\n",
              "2002    2\n",
              "2003    3\n",
              "2004    4\n",
              "dtype: int64"
            ]
          },
          "metadata": {
            "tags": []
          },
          "execution_count": 60
        }
      ]
    },
    {
      "cell_type": "code",
      "metadata": {
        "colab": {
          "base_uri": "https://localhost:8080/"
        },
        "id": "Tt7FZxJkiGyT",
        "outputId": "6b2cc7be-2768-45b5-db4d-b65504d39bc4"
      },
      "source": [
        "# but if inplace = true then s1 also changes, reset to default index\n",
        "s1.reset_index(drop=True,inplace=True)\n",
        "s1"
      ],
      "execution_count": 66,
      "outputs": [
        {
          "output_type": "execute_result",
          "data": {
            "text/plain": [
              "0    1\n",
              "1    2\n",
              "2    3\n",
              "3    4\n",
              "dtype: int64"
            ]
          },
          "metadata": {
            "tags": []
          },
          "execution_count": 66
        }
      ]
    },
    {
      "cell_type": "code",
      "metadata": {
        "id": "8GKRKOZWiQif"
      },
      "source": [
        "#COUNTS\n",
        "#return no ofnon null value\n",
        "\n"
      ],
      "execution_count": 68,
      "outputs": []
    },
    {
      "cell_type": "code",
      "metadata": {
        "id": "tyQpBgigitmu"
      },
      "source": [
        "# .value_counts returns series indexed by valyes found in series"
      ],
      "execution_count": 69,
      "outputs": []
    },
    {
      "cell_type": "code",
      "metadata": {
        "colab": {
          "base_uri": "https://localhost:8080/"
        },
        "id": "oSNT6XxDiw2G",
        "outputId": "cb89c7c8-2fd5-48e8-ab6b-9fadc15fd5b7"
      },
      "source": [
        "s1=pd.Series([12,2,3,4,5,3,2,None,54,3,3,323,42,None],name='xyz')\n",
        "s1"
      ],
      "execution_count": 70,
      "outputs": [
        {
          "output_type": "execute_result",
          "data": {
            "text/plain": [
              "0      12.0\n",
              "1       2.0\n",
              "2       3.0\n",
              "3       4.0\n",
              "4       5.0\n",
              "5       3.0\n",
              "6       2.0\n",
              "7       NaN\n",
              "8      54.0\n",
              "9       3.0\n",
              "10      3.0\n",
              "11    323.0\n",
              "12     42.0\n",
              "13      NaN\n",
              "Name: xyz, dtype: float64"
            ]
          },
          "metadata": {
            "tags": []
          },
          "execution_count": 70
        }
      ]
    },
    {
      "cell_type": "code",
      "metadata": {
        "colab": {
          "base_uri": "https://localhost:8080/"
        },
        "id": "Zf_ocT_li5Xl",
        "outputId": "2b3ce04b-e384-43f3-85ef-638f02d2e0c0"
      },
      "source": [
        "s1.count()"
      ],
      "execution_count": 71,
      "outputs": [
        {
          "output_type": "execute_result",
          "data": {
            "text/plain": [
              "12"
            ]
          },
          "metadata": {
            "tags": []
          },
          "execution_count": 71
        }
      ]
    },
    {
      "cell_type": "code",
      "metadata": {
        "colab": {
          "base_uri": "https://localhost:8080/"
        },
        "id": "xB0zcZi4i8DJ",
        "outputId": "bc813f68-e400-483f-94df-c15d4c2d6e3a"
      },
      "source": [
        "s1.value_counts() #returns series where index is value "
      ],
      "execution_count": 73,
      "outputs": [
        {
          "output_type": "execute_result",
          "data": {
            "text/plain": [
              "3.0      4\n",
              "2.0      2\n",
              "42.0     1\n",
              "323.0    1\n",
              "54.0     1\n",
              "5.0      1\n",
              "4.0      1\n",
              "12.0     1\n",
              "Name: xyz, dtype: int64"
            ]
          },
          "metadata": {
            "tags": []
          },
          "execution_count": 73
        }
      ]
    },
    {
      "cell_type": "code",
      "metadata": {
        "colab": {
          "base_uri": "https://localhost:8080/"
        },
        "id": "RbKv9k4gi-O8",
        "outputId": "d9672a13-1c14-4d38-8e4b-84fcaa7022c9"
      },
      "source": [
        "s1.unique() #returns all unique values including NaN"
      ],
      "execution_count": 79,
      "outputs": [
        {
          "output_type": "execute_result",
          "data": {
            "text/plain": [
              "array([ 12.,   2.,   3.,   4.,   5.,  nan,  54., 323.,  42.])"
            ]
          },
          "metadata": {
            "tags": []
          },
          "execution_count": 79
        }
      ]
    },
    {
      "cell_type": "code",
      "metadata": {
        "colab": {
          "base_uri": "https://localhost:8080/"
        },
        "id": "IcUNmhpEjQ05",
        "outputId": "c1e643fb-ae70-4545-b541-8ff5677ae8e3"
      },
      "source": [
        "#nunique gives count of non nan items\n",
        "s1.nunique() #8 in this case leaving NaN"
      ],
      "execution_count": 80,
      "outputs": [
        {
          "output_type": "execute_result",
          "data": {
            "text/plain": [
              "8"
            ]
          },
          "metadata": {
            "tags": []
          },
          "execution_count": 80
        }
      ]
    },
    {
      "cell_type": "code",
      "metadata": {
        "colab": {
          "base_uri": "https://localhost:8080/"
        },
        "id": "0YZNrlD9ja-_",
        "outputId": "a27d45b5-cf63-406c-af35-b272d222771e"
      },
      "source": [
        "#DROP\n",
        "\n",
        "s1.drop_duplicates() #returns series in which all duplicates are removed and first occurence is kept all other dropped"
      ],
      "execution_count": 82,
      "outputs": [
        {
          "output_type": "execute_result",
          "data": {
            "text/plain": [
              "0      12.0\n",
              "1       2.0\n",
              "2       3.0\n",
              "3       4.0\n",
              "4       5.0\n",
              "7       NaN\n",
              "8      54.0\n",
              "11    323.0\n",
              "12     42.0\n",
              "Name: xyz, dtype: float64"
            ]
          },
          "metadata": {
            "tags": []
          },
          "execution_count": 82
        }
      ]
    },
    {
      "cell_type": "code",
      "metadata": {
        "colab": {
          "base_uri": "https://localhost:8080/"
        },
        "id": "BWNIVPSrj_f1",
        "outputId": "2a8f6bcc-f8f2-4d8f-aebf-1b33d11ae163"
      },
      "source": [
        "# if we pass ley as last then last occurence can be kept\n",
        "s1.drop_duplicates(keep='last')\n"
      ],
      "execution_count": 83,
      "outputs": [
        {
          "output_type": "execute_result",
          "data": {
            "text/plain": [
              "0      12.0\n",
              "3       4.0\n",
              "4       5.0\n",
              "6       2.0\n",
              "8      54.0\n",
              "10      3.0\n",
              "11    323.0\n",
              "12     42.0\n",
              "13      NaN\n",
              "Name: xyz, dtype: float64"
            ]
          },
          "metadata": {
            "tags": []
          },
          "execution_count": 83
        }
      ]
    },
    {
      "cell_type": "code",
      "metadata": {
        "colab": {
          "base_uri": "https://localhost:8080/"
        },
        "id": "6m2TQOkmkPir",
        "outputId": "d28a717e-9d63-46e8-944e-e6531e1c25c0"
      },
      "source": [
        "s1.dropna() #drop all nan values"
      ],
      "execution_count": 86,
      "outputs": [
        {
          "output_type": "execute_result",
          "data": {
            "text/plain": [
              "0      12.0\n",
              "1       2.0\n",
              "2       3.0\n",
              "3       4.0\n",
              "4       5.0\n",
              "5       3.0\n",
              "6       2.0\n",
              "8      54.0\n",
              "9       3.0\n",
              "10      3.0\n",
              "11    323.0\n",
              "12     42.0\n",
              "Name: xyz, dtype: float64"
            ]
          },
          "metadata": {
            "tags": []
          },
          "execution_count": 86
        }
      ]
    },
    {
      "cell_type": "code",
      "metadata": {
        "colab": {
          "base_uri": "https://localhost:8080/"
        },
        "id": "zCPpclbjkSiq",
        "outputId": "34cb24da-135e-41ce-a47c-15bb3f094572"
      },
      "source": [
        "s1=pd.Series([1,2,3,4,5],index=[201,202,201,203,203])\n",
        "s1"
      ],
      "execution_count": 94,
      "outputs": [
        {
          "output_type": "execute_result",
          "data": {
            "text/plain": [
              "201    1\n",
              "202    2\n",
              "201    3\n",
              "203    4\n",
              "203    5\n",
              "dtype: int64"
            ]
          },
          "metadata": {
            "tags": []
          },
          "execution_count": 94
        }
      ]
    },
    {
      "cell_type": "code",
      "metadata": {
        "colab": {
          "base_uri": "https://localhost:8080/"
        },
        "id": "WlnHMyXMkaDo",
        "outputId": "e6a9c91d-4e55-4ad0-eff9-737e927fcb9c"
      },
      "source": [
        "s1.groupby(s1.index).mean() #groups index and calculates mean"
      ],
      "execution_count": 98,
      "outputs": [
        {
          "output_type": "execute_result",
          "data": {
            "text/plain": [
              "201    2.0\n",
              "202    2.0\n",
              "203    4.5\n",
              "dtype: float64"
            ]
          },
          "metadata": {
            "tags": []
          },
          "execution_count": 98
        }
      ]
    },
    {
      "cell_type": "code",
      "metadata": {
        "colab": {
          "base_uri": "https://localhost:8080/"
        },
        "id": "MD3Rehc2lYoY",
        "outputId": "e0606355-d084-4896-ce91-1cc185496d19"
      },
      "source": [
        "s1.groupby(s1.index).count() "
      ],
      "execution_count": 99,
      "outputs": [
        {
          "output_type": "execute_result",
          "data": {
            "text/plain": [
              "201    2\n",
              "202    1\n",
              "203    2\n",
              "dtype: int64"
            ]
          },
          "metadata": {
            "tags": []
          },
          "execution_count": 99
        }
      ]
    },
    {
      "cell_type": "code",
      "metadata": {
        "colab": {
          "base_uri": "https://localhost:8080/"
        },
        "id": "NsI6D5hDlmNx",
        "outputId": "9a9c3fe8-0ba1-4648-e881-eaa1d40a4464"
      },
      "source": [
        "gender = pd.Series([12,13,14,1,5,16,17,18,19,20],['M','F','F','M','M','F','F','O','M','O'], name='gender')\n",
        "gender"
      ],
      "execution_count": 102,
      "outputs": [
        {
          "output_type": "execute_result",
          "data": {
            "text/plain": [
              "M    12\n",
              "F    13\n",
              "F    14\n",
              "M     1\n",
              "M     5\n",
              "F    16\n",
              "F    17\n",
              "O    18\n",
              "M    19\n",
              "O    20\n",
              "Name: gender, dtype: int64"
            ]
          },
          "metadata": {
            "tags": []
          },
          "execution_count": 102
        }
      ]
    },
    {
      "cell_type": "code",
      "metadata": {
        "colab": {
          "base_uri": "https://localhost:8080/"
        },
        "id": "N3m1PP2QlNWN",
        "outputId": "f83e7ba1-477c-4d92-cfab-46e7f29f8313"
      },
      "source": [
        "gender.groupby(gender.index).count()"
      ],
      "execution_count": 106,
      "outputs": [
        {
          "output_type": "execute_result",
          "data": {
            "text/plain": [
              "F    4\n",
              "M    4\n",
              "O    2\n",
              "Name: gender, dtype: int64"
            ]
          },
          "metadata": {
            "tags": []
          },
          "execution_count": 106
        }
      ]
    },
    {
      "cell_type": "code",
      "metadata": {
        "colab": {
          "base_uri": "https://localhost:8080/"
        },
        "id": "ZGo8Sp4Qk8wo",
        "outputId": "2ca75d4d-3d24-4cc9-ec49-941b2cd96bf5"
      },
      "source": [
        "gender.groupby(gender.index).mean()"
      ],
      "execution_count": 107,
      "outputs": [
        {
          "output_type": "execute_result",
          "data": {
            "text/plain": [
              "F    15.00\n",
              "M     9.25\n",
              "O    19.00\n",
              "Name: gender, dtype: float64"
            ]
          },
          "metadata": {
            "tags": []
          },
          "execution_count": 107
        }
      ]
    },
    {
      "cell_type": "code",
      "metadata": {
        "colab": {
          "base_uri": "https://localhost:8080/"
        },
        "id": "Qu7DBVkilMs8",
        "outputId": "c87db351-600a-4f86-b963-da25bad772c4"
      },
      "source": [
        "gender"
      ],
      "execution_count": 108,
      "outputs": [
        {
          "output_type": "execute_result",
          "data": {
            "text/plain": [
              "M    12\n",
              "F    13\n",
              "F    14\n",
              "M     1\n",
              "M     5\n",
              "F    16\n",
              "F    17\n",
              "O    18\n",
              "M    19\n",
              "O    20\n",
              "Name: gender, dtype: int64"
            ]
          },
          "metadata": {
            "tags": []
          },
          "execution_count": 108
        }
      ]
    },
    {
      "cell_type": "code",
      "metadata": {
        "colab": {
          "base_uri": "https://localhost:8080/"
        },
        "id": "AmyRcMeam4Z5",
        "outputId": "9303a521-8283-4fba-f717-3c00b9277eab"
      },
      "source": [
        "gender.max()"
      ],
      "execution_count": 109,
      "outputs": [
        {
          "output_type": "execute_result",
          "data": {
            "text/plain": [
              "20"
            ]
          },
          "metadata": {
            "tags": []
          },
          "execution_count": 109
        }
      ]
    },
    {
      "cell_type": "code",
      "metadata": {
        "colab": {
          "base_uri": "https://localhost:8080/"
        },
        "id": "EDMmF9ADm515",
        "outputId": "d0299564-ca69-47b7-9f5f-7ad261dc72cf"
      },
      "source": [
        "gender.median()"
      ],
      "execution_count": 110,
      "outputs": [
        {
          "output_type": "execute_result",
          "data": {
            "text/plain": [
              "15.0"
            ]
          },
          "metadata": {
            "tags": []
          },
          "execution_count": 110
        }
      ]
    },
    {
      "cell_type": "code",
      "metadata": {
        "id": "wItJ9GSym7nb"
      },
      "source": [
        ""
      ],
      "execution_count": null,
      "outputs": []
    }
  ]
}