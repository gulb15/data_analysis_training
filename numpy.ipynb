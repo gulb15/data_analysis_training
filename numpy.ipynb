{
  "nbformat": 4,
  "nbformat_minor": 0,
  "metadata": {
    "colab": {
      "name": "numpy.ipynb",
      "provenance": [],
      "collapsed_sections": [],
      "authorship_tag": "ABX9TyNE7L3REb+dEMn2GNPZRk9d",
      "include_colab_link": true
    },
    "kernelspec": {
      "name": "python3",
      "display_name": "Python 3"
    },
    "language_info": {
      "name": "python"
    }
  },
  "cells": [
    {
      "cell_type": "markdown",
      "metadata": {
        "id": "view-in-github",
        "colab_type": "text"
      },
      "source": [
        "<a href=\"https://colab.research.google.com/github/gulb15/data_analysis_training/blob/main/numpy.ipynb\" target=\"_parent\"><img src=\"https://colab.research.google.com/assets/colab-badge.svg\" alt=\"Open In Colab\"/></a>"
      ]
    },
    {
      "cell_type": "code",
      "metadata": {
        "id": "-nOtExxDfjyc"
      },
      "source": [
        "import numpy as np\n",
        "import pandas as pd"
      ],
      "execution_count": 1,
      "outputs": []
    },
    {
      "cell_type": "code",
      "metadata": {
        "colab": {
          "base_uri": "https://localhost:8080/"
        },
        "id": "dHiC90aUfYtl",
        "outputId": "4bed8824-4a71-479d-fcb8-52d84d5271eb"
      },
      "source": [
        "#array with all elements as 1\n",
        "one=np.ones(10)\n",
        "one"
      ],
      "execution_count": null,
      "outputs": [
        {
          "output_type": "execute_result",
          "data": {
            "text/plain": [
              "array([1., 1., 1., 1., 1., 1., 1., 1., 1., 1.])"
            ]
          },
          "metadata": {
            "tags": []
          },
          "execution_count": 3
        }
      ]
    },
    {
      "cell_type": "code",
      "metadata": {
        "id": "CNhfdEBKfeuT"
      },
      "source": [
        "#why use numpy?\n",
        "\n",
        "#reason1- takes less memory\n",
        "#reason2- fast\n",
        "#reason3- convinient to understand"
      ],
      "execution_count": null,
      "outputs": []
    },
    {
      "cell_type": "code",
      "metadata": {
        "colab": {
          "base_uri": "https://localhost:8080/"
        },
        "id": "_Pp5y70efp14",
        "outputId": "91b88276-caa7-4c70-caf8-5a0cb0dd9af4"
      },
      "source": [
        "import numpy as np\n",
        "import sys \n",
        "l=[1,2,3,4,5,6,7,8,9]\n",
        "print(sys.getsizeof(l)*len(l))\n",
        "\n",
        "arr=np.array(l)\n",
        "print(arr.size*arr.itemsize)"
      ],
      "execution_count": null,
      "outputs": [
        {
          "output_type": "stream",
          "text": [
            "1296\n",
            "72\n"
          ],
          "name": "stdout"
        }
      ]
    },
    {
      "cell_type": "code",
      "metadata": {
        "id": "xujcN5ukgVUK"
      },
      "source": [
        "# #universal function\n",
        "# np.add\n",
        "# np.subtract\n",
        "# np.negative\n",
        "#np.divide\n",
        "#np.power\n",
        "#np.mod"
      ],
      "execution_count": 3,
      "outputs": []
    },
    {
      "cell_type": "code",
      "metadata": {
        "id": "_HCLUdY0kN_e"
      },
      "source": [
        "#vectorization- computation in arrays\n",
        "#fast to convert statemnetss into vector based operation\n",
        "#vectorization makes operation fast in numpy\n",
        "\n"
      ],
      "execution_count": 4,
      "outputs": []
    },
    {
      "cell_type": "code",
      "metadata": {
        "colab": {
          "base_uri": "https://localhost:8080/"
        },
        "id": "asS6cX1MkdN8",
        "outputId": "017eb9fb-2ec6-40f8-86ef-648b6e1fd289"
      },
      "source": [
        "a1=np.array([[1,1,1],[2,2,2],[3,3,3]])\n",
        "a2=np.array([[1,1,1],[2,2,2],[3,3,3]])\n",
        "a1+a2"
      ],
      "execution_count": 6,
      "outputs": [
        {
          "output_type": "execute_result",
          "data": {
            "text/plain": [
              "array([[2, 2, 2],\n",
              "       [4, 4, 4],\n",
              "       [6, 6, 6]])"
            ]
          },
          "metadata": {
            "tags": []
          },
          "execution_count": 6
        }
      ]
    },
    {
      "cell_type": "code",
      "metadata": {
        "colab": {
          "base_uri": "https://localhost:8080/"
        },
        "id": "bus6vTCmkrTU",
        "outputId": "6083602c-4998-4030-faa4-393e44943a74"
      },
      "source": [
        "a1-a2 #vector operation"
      ],
      "execution_count": 8,
      "outputs": [
        {
          "output_type": "execute_result",
          "data": {
            "text/plain": [
              "array([[0, 0, 0],\n",
              "       [0, 0, 0],\n",
              "       [0, 0, 0]])"
            ]
          },
          "metadata": {
            "tags": []
          },
          "execution_count": 8
        }
      ]
    },
    {
      "cell_type": "code",
      "metadata": {
        "colab": {
          "base_uri": "https://localhost:8080/"
        },
        "id": "CIJ2Ni-Bku1E",
        "outputId": "3b3b0462-c11b-4893-b858-41ab3d176340"
      },
      "source": [
        "#absolute function\n",
        "arr=np.array([-1,0,2,-1,-7])\n",
        "np.absolute(arr)"
      ],
      "execution_count": 11,
      "outputs": [
        {
          "output_type": "execute_result",
          "data": {
            "text/plain": [
              "array([1, 0, 2, 1, 7])"
            ]
          },
          "metadata": {
            "tags": []
          },
          "execution_count": 11
        }
      ]
    },
    {
      "cell_type": "code",
      "metadata": {
        "colab": {
          "base_uri": "https://localhost:8080/"
        },
        "id": "JOV0HXPok8-H",
        "outputId": "9231667c-0313-4a69-fd2f-28671b6449a1"
      },
      "source": [
        "#expoennt\n",
        "x=[1,2,3]\n",
        "np.exp(x)"
      ],
      "execution_count": 13,
      "outputs": [
        {
          "output_type": "execute_result",
          "data": {
            "text/plain": [
              "array([ 2.71828183,  7.3890561 , 20.08553692])"
            ]
          },
          "metadata": {
            "tags": []
          },
          "execution_count": 13
        }
      ]
    },
    {
      "cell_type": "code",
      "metadata": {
        "colab": {
          "base_uri": "https://localhost:8080/"
        },
        "id": "2iF1OtetlEfU",
        "outputId": "48398223-a010-4cd9-aa7f-f72dec88c894"
      },
      "source": [
        "#ln(x)\n",
        "np.log(x)"
      ],
      "execution_count": 14,
      "outputs": [
        {
          "output_type": "execute_result",
          "data": {
            "text/plain": [
              "array([0.        , 0.69314718, 1.09861229])"
            ]
          },
          "metadata": {
            "tags": []
          },
          "execution_count": 14
        }
      ]
    },
    {
      "cell_type": "code",
      "metadata": {
        "colab": {
          "base_uri": "https://localhost:8080/"
        },
        "id": "QEsRApsmlLA9",
        "outputId": "1664e3f7-2191-447e-e19f-91aaa0bddaec"
      },
      "source": [
        "np.log2(x)"
      ],
      "execution_count": 15,
      "outputs": [
        {
          "output_type": "execute_result",
          "data": {
            "text/plain": [
              "array([0.       , 1.       , 1.5849625])"
            ]
          },
          "metadata": {
            "tags": []
          },
          "execution_count": 15
        }
      ]
    },
    {
      "cell_type": "code",
      "metadata": {
        "colab": {
          "base_uri": "https://localhost:8080/"
        },
        "id": "rO31LKT3lNDa",
        "outputId": "3a353357-c308-401f-d9c0-48450ded9506"
      },
      "source": [
        "np.log10(x)"
      ],
      "execution_count": 16,
      "outputs": [
        {
          "output_type": "execute_result",
          "data": {
            "text/plain": [
              "array([0.        , 0.30103   , 0.47712125])"
            ]
          },
          "metadata": {
            "tags": []
          },
          "execution_count": 16
        }
      ]
    },
    {
      "cell_type": "code",
      "metadata": {
        "colab": {
          "base_uri": "https://localhost:8080/"
        },
        "id": "XFq1b05xlOfz",
        "outputId": "a53c5825-b6d5-4406-c379-e0dbb8cfd9c7"
      },
      "source": [
        "np.exp2(x)"
      ],
      "execution_count": 17,
      "outputs": [
        {
          "output_type": "execute_result",
          "data": {
            "text/plain": [
              "array([2., 4., 8.])"
            ]
          },
          "metadata": {
            "tags": []
          },
          "execution_count": 17
        }
      ]
    },
    {
      "cell_type": "code",
      "metadata": {
        "id": "ThkPCkE1lQ8E"
      },
      "source": [
        "#normalization of data in visualization\n",
        "#there log n ln n exp is used"
      ],
      "execution_count": 18,
      "outputs": []
    },
    {
      "cell_type": "code",
      "metadata": {
        "id": "w-uQ-G0Klicl"
      },
      "source": [
        "# #universal func\n",
        "# 1. specifying output\n",
        "x=np.arange(5)\n",
        "y=np.empty(5)\n",
        "\n"
      ],
      "execution_count": 20,
      "outputs": []
    },
    {
      "cell_type": "code",
      "metadata": {
        "colab": {
          "base_uri": "https://localhost:8080/"
        },
        "id": "2HnHcrKdlxqZ",
        "outputId": "140bdb06-7484-4e0d-ddc8-6db29e8ed9d3"
      },
      "source": [
        "\n",
        "\n",
        "#2. aggregation(reduce method- returns single result out of all elemets in array by applying any operation)\n",
        "x=np.arange(1,11)\n",
        "np.add.reduce(x)\n"
      ],
      "execution_count": 22,
      "outputs": [
        {
          "output_type": "execute_result",
          "data": {
            "text/plain": [
              "55"
            ]
          },
          "metadata": {
            "tags": []
          },
          "execution_count": 22
        }
      ]
    },
    {
      "cell_type": "code",
      "metadata": {
        "colab": {
          "base_uri": "https://localhost:8080/"
        },
        "id": "oAF_4kWmlz3o",
        "outputId": "6c98ac2a-db34-4208-bc0f-d514eaa153e7"
      },
      "source": [
        "np.add.accumulate(x) #prints all intermediate results of the reduce function"
      ],
      "execution_count": 24,
      "outputs": [
        {
          "output_type": "execute_result",
          "data": {
            "text/plain": [
              "array([ 1,  3,  6, 10, 15, 21, 28, 36, 45, 55])"
            ]
          },
          "metadata": {
            "tags": []
          },
          "execution_count": 24
        }
      ]
    },
    {
      "cell_type": "code",
      "metadata": {
        "colab": {
          "base_uri": "https://localhost:8080/"
        },
        "id": "qyhuvlrqmRtG",
        "outputId": "342780c9-02ec-4a51-9ff1-5520df486b38"
      },
      "source": [
        "#np.cumprod,np.cumsum,np.sum,np.prod\n",
        "np.sum(x)"
      ],
      "execution_count": 25,
      "outputs": [
        {
          "output_type": "execute_result",
          "data": {
            "text/plain": [
              "55"
            ]
          },
          "metadata": {
            "tags": []
          },
          "execution_count": 25
        }
      ]
    },
    {
      "cell_type": "code",
      "metadata": {
        "colab": {
          "base_uri": "https://localhost:8080/"
        },
        "id": "FohvRB3Cm2Kt",
        "outputId": "a05aff50-77d1-4978-d740-d39d86791b86"
      },
      "source": [
        "a2"
      ],
      "execution_count": 33,
      "outputs": [
        {
          "output_type": "execute_result",
          "data": {
            "text/plain": [
              "array([[1, 1, 1],\n",
              "       [2, 2, 2],\n",
              "       [3, 3, 3]])"
            ]
          },
          "metadata": {
            "tags": []
          },
          "execution_count": 33
        }
      ]
    },
    {
      "cell_type": "code",
      "metadata": {
        "id": "H9nAEbPmm2vr"
      },
      "source": [
        "np.sum?"
      ],
      "execution_count": 30,
      "outputs": []
    },
    {
      "cell_type": "code",
      "metadata": {
        "colab": {
          "base_uri": "https://localhost:8080/"
        },
        "id": "fZWD-sArm4jH",
        "outputId": "f8d23ca8-facd-4f9b-c0d8-16efde918fa0"
      },
      "source": [
        "np.sum([[0, 1], [0, 5]])"
      ],
      "execution_count": 32,
      "outputs": [
        {
          "output_type": "execute_result",
          "data": {
            "text/plain": [
              "6"
            ]
          },
          "metadata": {
            "tags": []
          },
          "execution_count": 32
        }
      ]
    },
    {
      "cell_type": "code",
      "metadata": {
        "id": "0_npQbrKnQCh"
      },
      "source": [
        "# # #numpy provides many aggregation functions\n",
        "# sum,\n",
        "# mean,\n",
        "# std,\n",
        "# var,\n",
        "# min,\n",
        "# max,\n",
        "# argmin,\n",
        "# argmax,\n",
        "# median,\n",
        "# percentile,\n",
        "# any(for true false),\n",
        "# np.all(for whether all elements are true or not)"
      ],
      "execution_count": 34,
      "outputs": []
    },
    {
      "cell_type": "code",
      "metadata": {
        "colab": {
          "base_uri": "https://localhost:8080/"
        },
        "id": "pWet5tynnrBN",
        "outputId": "4e9fcef2-be73-4eb6-8beb-86ef57060523"
      },
      "source": [
        "np.mean(a1,axis=0)"
      ],
      "execution_count": 35,
      "outputs": [
        {
          "output_type": "execute_result",
          "data": {
            "text/plain": [
              "array([2., 2., 2.])"
            ]
          },
          "metadata": {
            "tags": []
          },
          "execution_count": 35
        }
      ]
    },
    {
      "cell_type": "code",
      "metadata": {
        "colab": {
          "base_uri": "https://localhost:8080/"
        },
        "id": "AHMKpeLln3sc",
        "outputId": "72be9589-1a17-40a0-95aa-78c5c9e6371a"
      },
      "source": [
        "a1"
      ],
      "execution_count": 36,
      "outputs": [
        {
          "output_type": "execute_result",
          "data": {
            "text/plain": [
              "array([[1, 1, 1],\n",
              "       [2, 2, 2],\n",
              "       [3, 3, 3]])"
            ]
          },
          "metadata": {
            "tags": []
          },
          "execution_count": 36
        }
      ]
    },
    {
      "cell_type": "code",
      "metadata": {
        "colab": {
          "base_uri": "https://localhost:8080/"
        },
        "id": "VW0qcshXn5Z3",
        "outputId": "a2a6f081-dcbd-424b-a9b3-33e6913c07bd"
      },
      "source": [
        "#variance\n",
        "np.var(a1)"
      ],
      "execution_count": 37,
      "outputs": [
        {
          "output_type": "execute_result",
          "data": {
            "text/plain": [
              "0.6666666666666666"
            ]
          },
          "metadata": {
            "tags": []
          },
          "execution_count": 37
        }
      ]
    },
    {
      "cell_type": "code",
      "metadata": {
        "colab": {
          "base_uri": "https://localhost:8080/"
        },
        "id": "mNnb-V9jn-Dm",
        "outputId": "b9ef0377-6eba-4693-b08d-38ea19e6b846"
      },
      "source": [
        "x=np.arange(1,101).reshape(10,10)\n",
        "print(x)"
      ],
      "execution_count": 39,
      "outputs": [
        {
          "output_type": "stream",
          "text": [
            "[[  1   2   3   4   5   6   7   8   9  10]\n",
            " [ 11  12  13  14  15  16  17  18  19  20]\n",
            " [ 21  22  23  24  25  26  27  28  29  30]\n",
            " [ 31  32  33  34  35  36  37  38  39  40]\n",
            " [ 41  42  43  44  45  46  47  48  49  50]\n",
            " [ 51  52  53  54  55  56  57  58  59  60]\n",
            " [ 61  62  63  64  65  66  67  68  69  70]\n",
            " [ 71  72  73  74  75  76  77  78  79  80]\n",
            " [ 81  82  83  84  85  86  87  88  89  90]\n",
            " [ 91  92  93  94  95  96  97  98  99 100]]\n"
          ],
          "name": "stdout"
        }
      ]
    },
    {
      "cell_type": "code",
      "metadata": {
        "colab": {
          "base_uri": "https://localhost:8080/"
        },
        "id": "KpH3X83oocea",
        "outputId": "32a5bb0f-7e13-41a6-b83e-21755fa3dcf7"
      },
      "source": [
        "x=np.arange(1,101)\n",
        "print(x)"
      ],
      "execution_count": 40,
      "outputs": [
        {
          "output_type": "stream",
          "text": [
            "[  1   2   3   4   5   6   7   8   9  10  11  12  13  14  15  16  17  18\n",
            "  19  20  21  22  23  24  25  26  27  28  29  30  31  32  33  34  35  36\n",
            "  37  38  39  40  41  42  43  44  45  46  47  48  49  50  51  52  53  54\n",
            "  55  56  57  58  59  60  61  62  63  64  65  66  67  68  69  70  71  72\n",
            "  73  74  75  76  77  78  79  80  81  82  83  84  85  86  87  88  89  90\n",
            "  91  92  93  94  95  96  97  98  99 100]\n"
          ],
          "name": "stdout"
        }
      ]
    },
    {
      "cell_type": "code",
      "metadata": {
        "colab": {
          "base_uri": "https://localhost:8080/"
        },
        "id": "UMUtyvpLohX2",
        "outputId": "22a34733-748d-46a3-987b-616febb769b8"
      },
      "source": [
        "x=np.arange(1,20)\n",
        "x"
      ],
      "execution_count": 43,
      "outputs": [
        {
          "output_type": "execute_result",
          "data": {
            "text/plain": [
              "array([ 1,  2,  3,  4,  5,  6,  7,  8,  9, 10, 11, 12, 13, 14, 15, 16, 17,\n",
              "       18, 19])"
            ]
          },
          "metadata": {
            "tags": []
          },
          "execution_count": 43
        }
      ]
    },
    {
      "cell_type": "code",
      "metadata": {
        "colab": {
          "base_uri": "https://localhost:8080/"
        },
        "id": "Fvhnis-5oomy",
        "outputId": "c90315bf-ec34-49a0-858c-c6e6fd0cdd22"
      },
      "source": [
        "x=np.arange(1,21).reshape(2,10)\n",
        "x"
      ],
      "execution_count": 47,
      "outputs": [
        {
          "output_type": "execute_result",
          "data": {
            "text/plain": [
              "array([[ 1,  2,  3,  4,  5,  6,  7,  8,  9, 10],\n",
              "       [11, 12, 13, 14, 15, 16, 17, 18, 19, 20]])"
            ]
          },
          "metadata": {
            "tags": []
          },
          "execution_count": 47
        }
      ]
    },
    {
      "cell_type": "code",
      "metadata": {
        "colab": {
          "base_uri": "https://localhost:8080/"
        },
        "id": "Vk_0XWKiouQR",
        "outputId": "7685a37e-7496-4d34-e777-179cd3c67555"
      },
      "source": [
        "x[:,0]"
      ],
      "execution_count": 49,
      "outputs": [
        {
          "output_type": "execute_result",
          "data": {
            "text/plain": [
              "array([ 1, 11])"
            ]
          },
          "metadata": {
            "tags": []
          },
          "execution_count": 49
        }
      ]
    },
    {
      "cell_type": "code",
      "metadata": {
        "colab": {
          "base_uri": "https://localhost:8080/"
        },
        "id": "8ujpDyqAo4uJ",
        "outputId": "fa2cecbf-db8b-418f-87a3-c10e5f069c0b"
      },
      "source": [
        "np.mean(x[:,0])"
      ],
      "execution_count": 51,
      "outputs": [
        {
          "output_type": "execute_result",
          "data": {
            "text/plain": [
              "6.0"
            ]
          },
          "metadata": {
            "tags": []
          },
          "execution_count": 51
        }
      ]
    },
    {
      "cell_type": "code",
      "metadata": {
        "colab": {
          "base_uri": "https://localhost:8080/"
        },
        "id": "oVyBBcSjo-dS",
        "outputId": "4308d967-0540-4734-f31d-5d097ddd77c4"
      },
      "source": [
        "x=np.array([23,34,45,np.nan])\n",
        "x"
      ],
      "execution_count": 52,
      "outputs": [
        {
          "output_type": "execute_result",
          "data": {
            "text/plain": [
              "array([23., 34., 45., nan])"
            ]
          },
          "metadata": {
            "tags": []
          },
          "execution_count": 52
        }
      ]
    },
    {
      "cell_type": "code",
      "metadata": {
        "colab": {
          "base_uri": "https://localhost:8080/"
        },
        "id": "EJSBKWZIpNi3",
        "outputId": "8a49770b-8efd-427e-9d98-44a8e2971807"
      },
      "source": [
        "np.mean(x)"
      ],
      "execution_count": 54,
      "outputs": [
        {
          "output_type": "execute_result",
          "data": {
            "text/plain": [
              "nan"
            ]
          },
          "metadata": {
            "tags": []
          },
          "execution_count": 54
        }
      ]
    },
    {
      "cell_type": "code",
      "metadata": {
        "colab": {
          "base_uri": "https://localhost:8080/"
        },
        "id": "be7nqFLTpQcb",
        "outputId": "b169d453-7c42-4331-dbf4-4f257086fcac"
      },
      "source": [
        "np.nanmean(x)"
      ],
      "execution_count": 55,
      "outputs": [
        {
          "output_type": "execute_result",
          "data": {
            "text/plain": [
              "34.0"
            ]
          },
          "metadata": {
            "tags": []
          },
          "execution_count": 55
        }
      ]
    },
    {
      "cell_type": "code",
      "metadata": {
        "id": "TVlMMmO1pbKl"
      },
      "source": [
        "# #how to create your own universal function\n",
        "# add with lib called frompyfunc() method\n",
        "# takes agruments\n",
        "# 1. function\n",
        "# 2. inputs\n",
        "# 3. outputs\n"
      ],
      "execution_count": 56,
      "outputs": []
    },
    {
      "cell_type": "code",
      "metadata": {
        "id": "3i9eDr14p3fu"
      },
      "source": [
        "def myufunc(x):\n",
        "  return x**3"
      ],
      "execution_count": 59,
      "outputs": []
    },
    {
      "cell_type": "code",
      "metadata": {
        "colab": {
          "base_uri": "https://localhost:8080/"
        },
        "id": "wkXeD6J0p7s_",
        "outputId": "3cda24cb-6f0d-4b82-91ff-ebf4424bedea"
      },
      "source": [
        "x=np.arange(1,11)\n",
        "cube= np.frompyfunc(myufunc,1,1)\n",
        "cube(x)"
      ],
      "execution_count": 60,
      "outputs": [
        {
          "output_type": "execute_result",
          "data": {
            "text/plain": [
              "array([1, 8, 27, 64, 125, 216, 343, 512, 729, 1000], dtype=object)"
            ]
          },
          "metadata": {
            "tags": []
          },
          "execution_count": 60
        }
      ]
    },
    {
      "cell_type": "code",
      "metadata": {
        "colab": {
          "base_uri": "https://localhost:8080/"
        },
        "id": "moIMdd4EqCPf",
        "outputId": "3c138718-741e-4ade-82de-c8dabd24d13a"
      },
      "source": [
        "type(cube)   #to check if is it a ufunc"
      ],
      "execution_count": 64,
      "outputs": [
        {
          "output_type": "execute_result",
          "data": {
            "text/plain": [
              "numpy.ufunc"
            ]
          },
          "metadata": {
            "tags": []
          },
          "execution_count": 64
        }
      ]
    },
    {
      "cell_type": "code",
      "metadata": {
        "colab": {
          "base_uri": "https://localhost:8080/"
        },
        "id": "wpTpIfiAqJyh",
        "outputId": "f05b396b-bfde-483c-a91f-903ae878f350"
      },
      "source": [
        "type(np.add)    #inbuilt universal ufunc"
      ],
      "execution_count": 66,
      "outputs": [
        {
          "output_type": "execute_result",
          "data": {
            "text/plain": [
              "numpy.ufunc"
            ]
          },
          "metadata": {
            "tags": []
          },
          "execution_count": 66
        }
      ]
    },
    {
      "cell_type": "code",
      "metadata": {
        "id": "V0GhmZflqQd6"
      },
      "source": [
        "#create a ufunc which gives true when number is even otherwise false\n",
        "def myfunc(x):\n",
        "  if(x%2==0):\n",
        "    return True\n",
        "  else:\n",
        "    return False"
      ],
      "execution_count": 69,
      "outputs": []
    },
    {
      "cell_type": "code",
      "metadata": {
        "colab": {
          "base_uri": "https://localhost:8080/"
        },
        "id": "7V6Cdszlq4N6",
        "outputId": "aa4818ce-3afc-4e98-cdb6-3ac4cfefc225"
      },
      "source": [
        "x=np.arange(1,11)\n",
        "ans=np.frompyfunc(myfunc,1,1)\n",
        "ans"
      ],
      "execution_count": 70,
      "outputs": [
        {
          "output_type": "execute_result",
          "data": {
            "text/plain": [
              "<ufunc '? (vectorized)'>"
            ]
          },
          "metadata": {
            "tags": []
          },
          "execution_count": 70
        }
      ]
    },
    {
      "cell_type": "code",
      "metadata": {
        "colab": {
          "base_uri": "https://localhost:8080/"
        },
        "id": "2iDEBDCirA3_",
        "outputId": "38f43110-6ee4-455f-8d9b-ce9e44dc5319"
      },
      "source": [
        "y=np.array([12,23,34,45,56])\n",
        "e=np.frompyfunc(myfunc,1,1)\n",
        "type(e)"
      ],
      "execution_count": 72,
      "outputs": [
        {
          "output_type": "execute_result",
          "data": {
            "text/plain": [
              "numpy.ufunc"
            ]
          },
          "metadata": {
            "tags": []
          },
          "execution_count": 72
        }
      ]
    },
    {
      "cell_type": "code",
      "metadata": {
        "colab": {
          "base_uri": "https://localhost:8080/"
        },
        "id": "jI2l-G9dr21t",
        "outputId": "a0cb53c5-cac8-42a0-d57d-eea58d8abe56"
      },
      "source": [
        "e(x)"
      ],
      "execution_count": 73,
      "outputs": [
        {
          "output_type": "execute_result",
          "data": {
            "text/plain": [
              "array([False, True, False, True, False, True, False, True, False, True],\n",
              "      dtype=object)"
            ]
          },
          "metadata": {
            "tags": []
          },
          "execution_count": 73
        }
      ]
    },
    {
      "cell_type": "code",
      "metadata": {
        "colab": {
          "base_uri": "https://localhost:8080/"
        },
        "id": "5Ui-jrtksB_K",
        "outputId": "6b8bb44b-d460-4ba9-b26c-bc760498efcc"
      },
      "source": [
        "e(y)"
      ],
      "execution_count": 74,
      "outputs": [
        {
          "output_type": "execute_result",
          "data": {
            "text/plain": [
              "array([True, False, True, False, True], dtype=object)"
            ]
          },
          "metadata": {
            "tags": []
          },
          "execution_count": 74
        }
      ]
    },
    {
      "cell_type": "code",
      "metadata": {
        "colab": {
          "base_uri": "https://localhost:8080/"
        },
        "id": "PehHg47psGJE",
        "outputId": "0b1d9cfa-b0f2-4dac-a315-05c13633c823"
      },
      "source": [
        "type(myfunc)"
      ],
      "execution_count": 75,
      "outputs": [
        {
          "output_type": "execute_result",
          "data": {
            "text/plain": [
              "function"
            ]
          },
          "metadata": {
            "tags": []
          },
          "execution_count": 75
        }
      ]
    },
    {
      "cell_type": "code",
      "metadata": {
        "colab": {
          "base_uri": "https://localhost:8080/"
        },
        "id": "XPI-UmO2sQlE",
        "outputId": "9dce14d8-9321-45bc-ec2a-92ca789ee549"
      },
      "source": [
        "for i in range(np.size(x)):\n",
        "  print(myfunc(x[i]))"
      ],
      "execution_count": 78,
      "outputs": [
        {
          "output_type": "stream",
          "text": [
            "False\n",
            "True\n",
            "False\n",
            "True\n",
            "False\n",
            "True\n",
            "False\n",
            "True\n",
            "False\n",
            "True\n"
          ],
          "name": "stdout"
        }
      ]
    },
    {
      "cell_type": "code",
      "metadata": {
        "id": "JoNUodW4saIV"
      },
      "source": [
        "#SEARCHING IN ARRAY"
      ],
      "execution_count": 79,
      "outputs": []
    },
    {
      "cell_type": "code",
      "metadata": {
        "colab": {
          "base_uri": "https://localhost:8080/"
        },
        "id": "rQc__nqYtILd",
        "outputId": "6aa9c7b6-21b0-441b-dabc-eb56e8e6982e"
      },
      "source": [
        "x=np.arange(400,999)\n",
        "np.where(x==499)"
      ],
      "execution_count": 83,
      "outputs": [
        {
          "output_type": "execute_result",
          "data": {
            "text/plain": [
              "(array([99]),)"
            ]
          },
          "metadata": {
            "tags": []
          },
          "execution_count": 83
        }
      ]
    },
    {
      "cell_type": "code",
      "metadata": {
        "colab": {
          "base_uri": "https://localhost:8080/"
        },
        "id": "LzlZrvL5tMRe",
        "outputId": "73cf7d58-b450-4929-b682-d19ca960cae7"
      },
      "source": [
        "np.where(x>550)"
      ],
      "execution_count": 84,
      "outputs": [
        {
          "output_type": "execute_result",
          "data": {
            "text/plain": [
              "(array([151, 152, 153, 154, 155, 156, 157, 158, 159, 160, 161, 162, 163,\n",
              "        164, 165, 166, 167, 168, 169, 170, 171, 172, 173, 174, 175, 176,\n",
              "        177, 178, 179, 180, 181, 182, 183, 184, 185, 186, 187, 188, 189,\n",
              "        190, 191, 192, 193, 194, 195, 196, 197, 198, 199, 200, 201, 202,\n",
              "        203, 204, 205, 206, 207, 208, 209, 210, 211, 212, 213, 214, 215,\n",
              "        216, 217, 218, 219, 220, 221, 222, 223, 224, 225, 226, 227, 228,\n",
              "        229, 230, 231, 232, 233, 234, 235, 236, 237, 238, 239, 240, 241,\n",
              "        242, 243, 244, 245, 246, 247, 248, 249, 250, 251, 252, 253, 254,\n",
              "        255, 256, 257, 258, 259, 260, 261, 262, 263, 264, 265, 266, 267,\n",
              "        268, 269, 270, 271, 272, 273, 274, 275, 276, 277, 278, 279, 280,\n",
              "        281, 282, 283, 284, 285, 286, 287, 288, 289, 290, 291, 292, 293,\n",
              "        294, 295, 296, 297, 298, 299, 300, 301, 302, 303, 304, 305, 306,\n",
              "        307, 308, 309, 310, 311, 312, 313, 314, 315, 316, 317, 318, 319,\n",
              "        320, 321, 322, 323, 324, 325, 326, 327, 328, 329, 330, 331, 332,\n",
              "        333, 334, 335, 336, 337, 338, 339, 340, 341, 342, 343, 344, 345,\n",
              "        346, 347, 348, 349, 350, 351, 352, 353, 354, 355, 356, 357, 358,\n",
              "        359, 360, 361, 362, 363, 364, 365, 366, 367, 368, 369, 370, 371,\n",
              "        372, 373, 374, 375, 376, 377, 378, 379, 380, 381, 382, 383, 384,\n",
              "        385, 386, 387, 388, 389, 390, 391, 392, 393, 394, 395, 396, 397,\n",
              "        398, 399, 400, 401, 402, 403, 404, 405, 406, 407, 408, 409, 410,\n",
              "        411, 412, 413, 414, 415, 416, 417, 418, 419, 420, 421, 422, 423,\n",
              "        424, 425, 426, 427, 428, 429, 430, 431, 432, 433, 434, 435, 436,\n",
              "        437, 438, 439, 440, 441, 442, 443, 444, 445, 446, 447, 448, 449,\n",
              "        450, 451, 452, 453, 454, 455, 456, 457, 458, 459, 460, 461, 462,\n",
              "        463, 464, 465, 466, 467, 468, 469, 470, 471, 472, 473, 474, 475,\n",
              "        476, 477, 478, 479, 480, 481, 482, 483, 484, 485, 486, 487, 488,\n",
              "        489, 490, 491, 492, 493, 494, 495, 496, 497, 498, 499, 500, 501,\n",
              "        502, 503, 504, 505, 506, 507, 508, 509, 510, 511, 512, 513, 514,\n",
              "        515, 516, 517, 518, 519, 520, 521, 522, 523, 524, 525, 526, 527,\n",
              "        528, 529, 530, 531, 532, 533, 534, 535, 536, 537, 538, 539, 540,\n",
              "        541, 542, 543, 544, 545, 546, 547, 548, 549, 550, 551, 552, 553,\n",
              "        554, 555, 556, 557, 558, 559, 560, 561, 562, 563, 564, 565, 566,\n",
              "        567, 568, 569, 570, 571, 572, 573, 574, 575, 576, 577, 578, 579,\n",
              "        580, 581, 582, 583, 584, 585, 586, 587, 588, 589, 590, 591, 592,\n",
              "        593, 594, 595, 596, 597, 598]),)"
            ]
          },
          "metadata": {
            "tags": []
          },
          "execution_count": 84
        }
      ]
    },
    {
      "cell_type": "code",
      "metadata": {
        "id": "c_yQEV-WtiRq"
      },
      "source": [
        "#FAST SORTING IN NUMPY : np.sort and np.argsort\n",
        "#complexity is O(nlogn)"
      ],
      "execution_count": 88,
      "outputs": []
    },
    {
      "cell_type": "code",
      "metadata": {
        "colab": {
          "base_uri": "https://localhost:8080/"
        },
        "id": "_OZkNAk2t_d5",
        "outputId": "b81193d6-017b-47fd-c76a-2a9512d1fde2"
      },
      "source": [
        "#FILTERING ARRAYS\n",
        "x=np.array([1,2,3,4,5,6])\n",
        "f=[True,False,True,False,True,False]\n",
        "x[f]"
      ],
      "execution_count": 93,
      "outputs": [
        {
          "output_type": "execute_result",
          "data": {
            "text/plain": [
              "array([1, 3, 5])"
            ]
          },
          "metadata": {
            "tags": []
          },
          "execution_count": 93
        }
      ]
    },
    {
      "cell_type": "code",
      "metadata": {
        "colab": {
          "base_uri": "https://localhost:8080/"
        },
        "id": "UovmHPLRvi5u",
        "outputId": "51b53bf1-159d-4176-d71c-4e2802b43e97"
      },
      "source": [
        "x[x%2==0]"
      ],
      "execution_count": 94,
      "outputs": [
        {
          "output_type": "execute_result",
          "data": {
            "text/plain": [
              "array([2, 4, 6])"
            ]
          },
          "metadata": {
            "tags": []
          },
          "execution_count": 94
        }
      ]
    },
    {
      "cell_type": "code",
      "metadata": {
        "id": "WUkfcucAvwq-"
      },
      "source": [
        ""
      ],
      "execution_count": null,
      "outputs": []
    }
  ]
}