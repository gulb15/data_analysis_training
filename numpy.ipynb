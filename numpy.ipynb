{
  "nbformat": 4,
  "nbformat_minor": 0,
  "metadata": {
    "colab": {
      "name": "numpy.ipynb",
      "provenance": [],
      "collapsed_sections": [],
      "authorship_tag": "ABX9TyMQr/OMmoESPqd8ZnHeg2lI",
      "include_colab_link": true
    },
    "kernelspec": {
      "display_name": "Python 3",
      "name": "python3"
    },
    "language_info": {
      "name": "python"
    }
  },
  "cells": [
    {
      "cell_type": "markdown",
      "metadata": {
        "id": "view-in-github",
        "colab_type": "text"
      },
      "source": [
        "<a href=\"https://colab.research.google.com/github/gulb15/data_analysis_training/blob/main/numpy.ipynb\" target=\"_parent\"><img src=\"https://colab.research.google.com/assets/colab-badge.svg\" alt=\"Open In Colab\"/></a>"
      ]
    },
    {
      "cell_type": "code",
      "metadata": {
        "id": "-nOtExxDfjyc"
      },
      "source": [
        "import numpy as np\n",
        "import pandas as pd"
      ],
      "execution_count": null,
      "outputs": []
    },
    {
      "cell_type": "code",
      "metadata": {
        "colab": {
          "base_uri": "https://localhost:8080/"
        },
        "id": "dHiC90aUfYtl",
        "outputId": "4bed8824-4a71-479d-fcb8-52d84d5271eb"
      },
      "source": [
        "#array with all elements as 1\n",
        "one=np.ones(10)\n",
        "one"
      ],
      "execution_count": null,
      "outputs": [
        {
          "output_type": "execute_result",
          "data": {
            "text/plain": [
              "array([1., 1., 1., 1., 1., 1., 1., 1., 1., 1.])"
            ]
          },
          "metadata": {
            "tags": []
          },
          "execution_count": 3
        }
      ]
    },
    {
      "cell_type": "code",
      "metadata": {
        "id": "CNhfdEBKfeuT"
      },
      "source": [
        "#why use numpy?\n",
        "\n",
        "#reason1- takes less memory\n",
        "#reason2- fast\n",
        "#reason3- convinient to understand"
      ],
      "execution_count": null,
      "outputs": []
    },
    {
      "cell_type": "code",
      "metadata": {
        "colab": {
          "base_uri": "https://localhost:8080/"
        },
        "id": "_Pp5y70efp14",
        "outputId": "91b88276-caa7-4c70-caf8-5a0cb0dd9af4"
      },
      "source": [
        "import numpy as np\n",
        "import sys \n",
        "l=[1,2,3,4,5,6,7,8,9]\n",
        "print(sys.getsizeof(l)*len(l))\n",
        "\n",
        "arr=np.array(l)\n",
        "print(arr.size*arr.itemsize)"
      ],
      "execution_count": null,
      "outputs": [
        {
          "output_type": "stream",
          "text": [
            "1296\n",
            "72\n"
          ],
          "name": "stdout"
        }
      ]
    },
    {
      "cell_type": "code",
      "metadata": {
        "id": "xujcN5ukgVUK"
      },
      "source": [
        "# #universal function\n",
        "# np.add\n",
        "# np.subtract\n",
        "# np.negative\n",
        "#np.divide\n",
        "#np.power\n",
        "#np.mod"
      ],
      "execution_count": null,
      "outputs": []
    },
    {
      "cell_type": "code",
      "metadata": {
        "id": "_HCLUdY0kN_e"
      },
      "source": [
        "#vectorization- computation in arrays\n",
        "#fast to convert statemnetss into vector based operation\n",
        "#vectorization makes operation fast in numpy\n",
        "\n"
      ],
      "execution_count": null,
      "outputs": []
    },
    {
      "cell_type": "code",
      "metadata": {
        "colab": {
          "base_uri": "https://localhost:8080/"
        },
        "id": "asS6cX1MkdN8",
        "outputId": "017eb9fb-2ec6-40f8-86ef-648b6e1fd289"
      },
      "source": [
        "a1=np.array([[1,1,1],[2,2,2],[3,3,3]])\n",
        "a2=np.array([[1,1,1],[2,2,2],[3,3,3]])\n",
        "a1+a2"
      ],
      "execution_count": null,
      "outputs": [
        {
          "output_type": "execute_result",
          "data": {
            "text/plain": [
              "array([[2, 2, 2],\n",
              "       [4, 4, 4],\n",
              "       [6, 6, 6]])"
            ]
          },
          "metadata": {
            "tags": []
          },
          "execution_count": 6
        }
      ]
    },
    {
      "cell_type": "code",
      "metadata": {
        "colab": {
          "base_uri": "https://localhost:8080/"
        },
        "id": "bus6vTCmkrTU",
        "outputId": "6083602c-4998-4030-faa4-393e44943a74"
      },
      "source": [
        "a1-a2 #vector operation"
      ],
      "execution_count": null,
      "outputs": [
        {
          "output_type": "execute_result",
          "data": {
            "text/plain": [
              "array([[0, 0, 0],\n",
              "       [0, 0, 0],\n",
              "       [0, 0, 0]])"
            ]
          },
          "metadata": {
            "tags": []
          },
          "execution_count": 8
        }
      ]
    },
    {
      "cell_type": "code",
      "metadata": {
        "colab": {
          "base_uri": "https://localhost:8080/"
        },
        "id": "CIJ2Ni-Bku1E",
        "outputId": "3b3b0462-c11b-4893-b858-41ab3d176340"
      },
      "source": [
        "#absolute function\n",
        "arr=np.array([-1,0,2,-1,-7])\n",
        "np.absolute(arr)"
      ],
      "execution_count": null,
      "outputs": [
        {
          "output_type": "execute_result",
          "data": {
            "text/plain": [
              "array([1, 0, 2, 1, 7])"
            ]
          },
          "metadata": {
            "tags": []
          },
          "execution_count": 11
        }
      ]
    },
    {
      "cell_type": "code",
      "metadata": {
        "colab": {
          "base_uri": "https://localhost:8080/"
        },
        "id": "JOV0HXPok8-H",
        "outputId": "9231667c-0313-4a69-fd2f-28671b6449a1"
      },
      "source": [
        "#expoennt\n",
        "x=[1,2,3]\n",
        "np.exp(x)"
      ],
      "execution_count": null,
      "outputs": [
        {
          "output_type": "execute_result",
          "data": {
            "text/plain": [
              "array([ 2.71828183,  7.3890561 , 20.08553692])"
            ]
          },
          "metadata": {
            "tags": []
          },
          "execution_count": 13
        }
      ]
    },
    {
      "cell_type": "code",
      "metadata": {
        "colab": {
          "base_uri": "https://localhost:8080/"
        },
        "id": "2iF1OtetlEfU",
        "outputId": "48398223-a010-4cd9-aa7f-f72dec88c894"
      },
      "source": [
        "#ln(x)\n",
        "np.log(x)"
      ],
      "execution_count": null,
      "outputs": [
        {
          "output_type": "execute_result",
          "data": {
            "text/plain": [
              "array([0.        , 0.69314718, 1.09861229])"
            ]
          },
          "metadata": {
            "tags": []
          },
          "execution_count": 14
        }
      ]
    },
    {
      "cell_type": "code",
      "metadata": {
        "colab": {
          "base_uri": "https://localhost:8080/"
        },
        "id": "QEsRApsmlLA9",
        "outputId": "1664e3f7-2191-447e-e19f-91aaa0bddaec"
      },
      "source": [
        "np.log2(x)"
      ],
      "execution_count": null,
      "outputs": [
        {
          "output_type": "execute_result",
          "data": {
            "text/plain": [
              "array([0.       , 1.       , 1.5849625])"
            ]
          },
          "metadata": {
            "tags": []
          },
          "execution_count": 15
        }
      ]
    },
    {
      "cell_type": "code",
      "metadata": {
        "colab": {
          "base_uri": "https://localhost:8080/"
        },
        "id": "rO31LKT3lNDa",
        "outputId": "3a353357-c308-401f-d9c0-48450ded9506"
      },
      "source": [
        "np.log10(x)"
      ],
      "execution_count": null,
      "outputs": [
        {
          "output_type": "execute_result",
          "data": {
            "text/plain": [
              "array([0.        , 0.30103   , 0.47712125])"
            ]
          },
          "metadata": {
            "tags": []
          },
          "execution_count": 16
        }
      ]
    },
    {
      "cell_type": "code",
      "metadata": {
        "colab": {
          "base_uri": "https://localhost:8080/"
        },
        "id": "XFq1b05xlOfz",
        "outputId": "a53c5825-b6d5-4406-c379-e0dbb8cfd9c7"
      },
      "source": [
        "np.exp2(x)"
      ],
      "execution_count": null,
      "outputs": [
        {
          "output_type": "execute_result",
          "data": {
            "text/plain": [
              "array([2., 4., 8.])"
            ]
          },
          "metadata": {
            "tags": []
          },
          "execution_count": 17
        }
      ]
    },
    {
      "cell_type": "code",
      "metadata": {
        "id": "ThkPCkE1lQ8E"
      },
      "source": [
        "#normalization of data in visualization\n",
        "#there log n ln n exp is used"
      ],
      "execution_count": null,
      "outputs": []
    },
    {
      "cell_type": "code",
      "metadata": {
        "id": "w-uQ-G0Klicl"
      },
      "source": [
        "# #universal func\n",
        "# 1. specifying output\n",
        "x=np.arange(5)\n",
        "y=np.empty(5)\n",
        "\n"
      ],
      "execution_count": null,
      "outputs": []
    },
    {
      "cell_type": "code",
      "metadata": {
        "colab": {
          "base_uri": "https://localhost:8080/"
        },
        "id": "2HnHcrKdlxqZ",
        "outputId": "140bdb06-7484-4e0d-ddc8-6db29e8ed9d3"
      },
      "source": [
        "\n",
        "\n",
        "#2. aggregation(reduce method- returns single result out of all elemets in array by applying any operation)\n",
        "x=np.arange(1,11)\n",
        "np.add.reduce(x)\n"
      ],
      "execution_count": null,
      "outputs": [
        {
          "output_type": "execute_result",
          "data": {
            "text/plain": [
              "55"
            ]
          },
          "metadata": {
            "tags": []
          },
          "execution_count": 22
        }
      ]
    },
    {
      "cell_type": "code",
      "metadata": {
        "colab": {
          "base_uri": "https://localhost:8080/"
        },
        "id": "oAF_4kWmlz3o",
        "outputId": "6c98ac2a-db34-4208-bc0f-d514eaa153e7"
      },
      "source": [
        "np.add.accumulate(x) #prints all intermediate results of the reduce function"
      ],
      "execution_count": null,
      "outputs": [
        {
          "output_type": "execute_result",
          "data": {
            "text/plain": [
              "array([ 1,  3,  6, 10, 15, 21, 28, 36, 45, 55])"
            ]
          },
          "metadata": {
            "tags": []
          },
          "execution_count": 24
        }
      ]
    },
    {
      "cell_type": "code",
      "metadata": {
        "colab": {
          "base_uri": "https://localhost:8080/"
        },
        "id": "qyhuvlrqmRtG",
        "outputId": "342780c9-02ec-4a51-9ff1-5520df486b38"
      },
      "source": [
        "#np.cumprod,np.cumsum,np.sum,np.prod\n",
        "np.sum(x)"
      ],
      "execution_count": null,
      "outputs": [
        {
          "output_type": "execute_result",
          "data": {
            "text/plain": [
              "55"
            ]
          },
          "metadata": {
            "tags": []
          },
          "execution_count": 25
        }
      ]
    },
    {
      "cell_type": "code",
      "metadata": {
        "colab": {
          "base_uri": "https://localhost:8080/"
        },
        "id": "FohvRB3Cm2Kt",
        "outputId": "a05aff50-77d1-4978-d740-d39d86791b86"
      },
      "source": [
        "a2"
      ],
      "execution_count": null,
      "outputs": [
        {
          "output_type": "execute_result",
          "data": {
            "text/plain": [
              "array([[1, 1, 1],\n",
              "       [2, 2, 2],\n",
              "       [3, 3, 3]])"
            ]
          },
          "metadata": {
            "tags": []
          },
          "execution_count": 33
        }
      ]
    },
    {
      "cell_type": "code",
      "metadata": {
        "id": "H9nAEbPmm2vr"
      },
      "source": [
        "np.sum?"
      ],
      "execution_count": null,
      "outputs": []
    },
    {
      "cell_type": "code",
      "metadata": {
        "colab": {
          "base_uri": "https://localhost:8080/"
        },
        "id": "fZWD-sArm4jH",
        "outputId": "f8d23ca8-facd-4f9b-c0d8-16efde918fa0"
      },
      "source": [
        "np.sum([[0, 1], [0, 5]])"
      ],
      "execution_count": null,
      "outputs": [
        {
          "output_type": "execute_result",
          "data": {
            "text/plain": [
              "6"
            ]
          },
          "metadata": {
            "tags": []
          },
          "execution_count": 32
        }
      ]
    },
    {
      "cell_type": "code",
      "metadata": {
        "id": "0_npQbrKnQCh"
      },
      "source": [
        "# # #numpy provides many aggregation functions\n",
        "# sum,\n",
        "# mean,\n",
        "# std,\n",
        "# var,\n",
        "# min,\n",
        "# max,\n",
        "# argmin,\n",
        "# argmax,\n",
        "# median,\n",
        "# percentile,\n",
        "# any(for true false),\n",
        "# np.all(for whether all elements are true or not)"
      ],
      "execution_count": null,
      "outputs": []
    },
    {
      "cell_type": "code",
      "metadata": {
        "colab": {
          "base_uri": "https://localhost:8080/"
        },
        "id": "pWet5tynnrBN",
        "outputId": "4e9fcef2-be73-4eb6-8beb-86ef57060523"
      },
      "source": [
        "np.mean(a1,axis=0)"
      ],
      "execution_count": null,
      "outputs": [
        {
          "output_type": "execute_result",
          "data": {
            "text/plain": [
              "array([2., 2., 2.])"
            ]
          },
          "metadata": {
            "tags": []
          },
          "execution_count": 35
        }
      ]
    },
    {
      "cell_type": "code",
      "metadata": {
        "colab": {
          "base_uri": "https://localhost:8080/"
        },
        "id": "AHMKpeLln3sc",
        "outputId": "72be9589-1a17-40a0-95aa-78c5c9e6371a"
      },
      "source": [
        "a1"
      ],
      "execution_count": null,
      "outputs": [
        {
          "output_type": "execute_result",
          "data": {
            "text/plain": [
              "array([[1, 1, 1],\n",
              "       [2, 2, 2],\n",
              "       [3, 3, 3]])"
            ]
          },
          "metadata": {
            "tags": []
          },
          "execution_count": 36
        }
      ]
    },
    {
      "cell_type": "code",
      "metadata": {
        "colab": {
          "base_uri": "https://localhost:8080/"
        },
        "id": "VW0qcshXn5Z3",
        "outputId": "a2a6f081-dcbd-424b-a9b3-33e6913c07bd"
      },
      "source": [
        "#variance\n",
        "np.var(a1)"
      ],
      "execution_count": null,
      "outputs": [
        {
          "output_type": "execute_result",
          "data": {
            "text/plain": [
              "0.6666666666666666"
            ]
          },
          "metadata": {
            "tags": []
          },
          "execution_count": 37
        }
      ]
    },
    {
      "cell_type": "code",
      "metadata": {
        "colab": {
          "base_uri": "https://localhost:8080/"
        },
        "id": "mNnb-V9jn-Dm",
        "outputId": "b9ef0377-6eba-4693-b08d-38ea19e6b846"
      },
      "source": [
        "x=np.arange(1,101).reshape(10,10)\n",
        "print(x)"
      ],
      "execution_count": null,
      "outputs": [
        {
          "output_type": "stream",
          "text": [
            "[[  1   2   3   4   5   6   7   8   9  10]\n",
            " [ 11  12  13  14  15  16  17  18  19  20]\n",
            " [ 21  22  23  24  25  26  27  28  29  30]\n",
            " [ 31  32  33  34  35  36  37  38  39  40]\n",
            " [ 41  42  43  44  45  46  47  48  49  50]\n",
            " [ 51  52  53  54  55  56  57  58  59  60]\n",
            " [ 61  62  63  64  65  66  67  68  69  70]\n",
            " [ 71  72  73  74  75  76  77  78  79  80]\n",
            " [ 81  82  83  84  85  86  87  88  89  90]\n",
            " [ 91  92  93  94  95  96  97  98  99 100]]\n"
          ],
          "name": "stdout"
        }
      ]
    },
    {
      "cell_type": "code",
      "metadata": {
        "colab": {
          "base_uri": "https://localhost:8080/"
        },
        "id": "KpH3X83oocea",
        "outputId": "32a5bb0f-7e13-41a6-b83e-21755fa3dcf7"
      },
      "source": [
        "x=np.arange(1,101)\n",
        "print(x)"
      ],
      "execution_count": null,
      "outputs": [
        {
          "output_type": "stream",
          "text": [
            "[  1   2   3   4   5   6   7   8   9  10  11  12  13  14  15  16  17  18\n",
            "  19  20  21  22  23  24  25  26  27  28  29  30  31  32  33  34  35  36\n",
            "  37  38  39  40  41  42  43  44  45  46  47  48  49  50  51  52  53  54\n",
            "  55  56  57  58  59  60  61  62  63  64  65  66  67  68  69  70  71  72\n",
            "  73  74  75  76  77  78  79  80  81  82  83  84  85  86  87  88  89  90\n",
            "  91  92  93  94  95  96  97  98  99 100]\n"
          ],
          "name": "stdout"
        }
      ]
    },
    {
      "cell_type": "code",
      "metadata": {
        "colab": {
          "base_uri": "https://localhost:8080/"
        },
        "id": "UMUtyvpLohX2",
        "outputId": "22a34733-748d-46a3-987b-616febb769b8"
      },
      "source": [
        "x=np.arange(1,20)\n",
        "x"
      ],
      "execution_count": null,
      "outputs": [
        {
          "output_type": "execute_result",
          "data": {
            "text/plain": [
              "array([ 1,  2,  3,  4,  5,  6,  7,  8,  9, 10, 11, 12, 13, 14, 15, 16, 17,\n",
              "       18, 19])"
            ]
          },
          "metadata": {
            "tags": []
          },
          "execution_count": 43
        }
      ]
    },
    {
      "cell_type": "code",
      "metadata": {
        "colab": {
          "base_uri": "https://localhost:8080/"
        },
        "id": "Fvhnis-5oomy",
        "outputId": "c90315bf-ec34-49a0-858c-c6e6fd0cdd22"
      },
      "source": [
        "x=np.arange(1,21).reshape(2,10)\n",
        "x"
      ],
      "execution_count": null,
      "outputs": [
        {
          "output_type": "execute_result",
          "data": {
            "text/plain": [
              "array([[ 1,  2,  3,  4,  5,  6,  7,  8,  9, 10],\n",
              "       [11, 12, 13, 14, 15, 16, 17, 18, 19, 20]])"
            ]
          },
          "metadata": {
            "tags": []
          },
          "execution_count": 47
        }
      ]
    },
    {
      "cell_type": "code",
      "metadata": {
        "colab": {
          "base_uri": "https://localhost:8080/"
        },
        "id": "Vk_0XWKiouQR",
        "outputId": "7685a37e-7496-4d34-e777-179cd3c67555"
      },
      "source": [
        "x[:,0]"
      ],
      "execution_count": null,
      "outputs": [
        {
          "output_type": "execute_result",
          "data": {
            "text/plain": [
              "array([ 1, 11])"
            ]
          },
          "metadata": {
            "tags": []
          },
          "execution_count": 49
        }
      ]
    },
    {
      "cell_type": "code",
      "metadata": {
        "colab": {
          "base_uri": "https://localhost:8080/"
        },
        "id": "8ujpDyqAo4uJ",
        "outputId": "fa2cecbf-db8b-418f-87a3-c10e5f069c0b"
      },
      "source": [
        "np.mean(x[:,0])"
      ],
      "execution_count": null,
      "outputs": [
        {
          "output_type": "execute_result",
          "data": {
            "text/plain": [
              "6.0"
            ]
          },
          "metadata": {
            "tags": []
          },
          "execution_count": 51
        }
      ]
    },
    {
      "cell_type": "code",
      "metadata": {
        "colab": {
          "base_uri": "https://localhost:8080/"
        },
        "id": "oVyBBcSjo-dS",
        "outputId": "4308d967-0540-4734-f31d-5d097ddd77c4"
      },
      "source": [
        "x=np.array([23,34,45,np.nan])\n",
        "x"
      ],
      "execution_count": null,
      "outputs": [
        {
          "output_type": "execute_result",
          "data": {
            "text/plain": [
              "array([23., 34., 45., nan])"
            ]
          },
          "metadata": {
            "tags": []
          },
          "execution_count": 52
        }
      ]
    },
    {
      "cell_type": "code",
      "metadata": {
        "colab": {
          "base_uri": "https://localhost:8080/"
        },
        "id": "EJSBKWZIpNi3",
        "outputId": "8a49770b-8efd-427e-9d98-44a8e2971807"
      },
      "source": [
        "np.mean(x)"
      ],
      "execution_count": null,
      "outputs": [
        {
          "output_type": "execute_result",
          "data": {
            "text/plain": [
              "nan"
            ]
          },
          "metadata": {
            "tags": []
          },
          "execution_count": 54
        }
      ]
    },
    {
      "cell_type": "code",
      "metadata": {
        "colab": {
          "base_uri": "https://localhost:8080/"
        },
        "id": "be7nqFLTpQcb",
        "outputId": "b169d453-7c42-4331-dbf4-4f257086fcac"
      },
      "source": [
        "np.nanmean(x)"
      ],
      "execution_count": null,
      "outputs": [
        {
          "output_type": "execute_result",
          "data": {
            "text/plain": [
              "34.0"
            ]
          },
          "metadata": {
            "tags": []
          },
          "execution_count": 55
        }
      ]
    },
    {
      "cell_type": "code",
      "metadata": {
        "id": "TVlMMmO1pbKl"
      },
      "source": [
        "# #how to create your own universal function\n",
        "# add with lib called frompyfunc() method\n",
        "# takes agruments\n",
        "# 1. function\n",
        "# 2. inputs\n",
        "# 3. outputs\n"
      ],
      "execution_count": null,
      "outputs": []
    },
    {
      "cell_type": "code",
      "metadata": {
        "id": "3i9eDr14p3fu"
      },
      "source": [
        "def myufunc(x):\n",
        "  return x**3"
      ],
      "execution_count": null,
      "outputs": []
    },
    {
      "cell_type": "code",
      "metadata": {
        "colab": {
          "base_uri": "https://localhost:8080/"
        },
        "id": "wkXeD6J0p7s_",
        "outputId": "3cda24cb-6f0d-4b82-91ff-ebf4424bedea"
      },
      "source": [
        "x=np.arange(1,11)\n",
        "cube= np.frompyfunc(myufunc,1,1)\n",
        "cube(x)"
      ],
      "execution_count": null,
      "outputs": [
        {
          "output_type": "execute_result",
          "data": {
            "text/plain": [
              "array([1, 8, 27, 64, 125, 216, 343, 512, 729, 1000], dtype=object)"
            ]
          },
          "metadata": {
            "tags": []
          },
          "execution_count": 60
        }
      ]
    },
    {
      "cell_type": "code",
      "metadata": {
        "colab": {
          "base_uri": "https://localhost:8080/"
        },
        "id": "moIMdd4EqCPf",
        "outputId": "3c138718-741e-4ade-82de-c8dabd24d13a"
      },
      "source": [
        "type(cube)   #to check if is it a ufunc"
      ],
      "execution_count": null,
      "outputs": [
        {
          "output_type": "execute_result",
          "data": {
            "text/plain": [
              "numpy.ufunc"
            ]
          },
          "metadata": {
            "tags": []
          },
          "execution_count": 64
        }
      ]
    },
    {
      "cell_type": "code",
      "metadata": {
        "colab": {
          "base_uri": "https://localhost:8080/"
        },
        "id": "wpTpIfiAqJyh",
        "outputId": "f05b396b-bfde-483c-a91f-903ae878f350"
      },
      "source": [
        "type(np.add)    #inbuilt universal ufunc"
      ],
      "execution_count": null,
      "outputs": [
        {
          "output_type": "execute_result",
          "data": {
            "text/plain": [
              "numpy.ufunc"
            ]
          },
          "metadata": {
            "tags": []
          },
          "execution_count": 66
        }
      ]
    },
    {
      "cell_type": "code",
      "metadata": {
        "id": "V0GhmZflqQd6"
      },
      "source": [
        "#create a ufunc which gives true when number is even otherwise false\n",
        "def myfunc(x):\n",
        "  if(x%2==0):\n",
        "    return True\n",
        "  else:\n",
        "    return False"
      ],
      "execution_count": null,
      "outputs": []
    },
    {
      "cell_type": "code",
      "metadata": {
        "colab": {
          "base_uri": "https://localhost:8080/"
        },
        "id": "7V6Cdszlq4N6",
        "outputId": "aa4818ce-3afc-4e98-cdb6-3ac4cfefc225"
      },
      "source": [
        "x=np.arange(1,11)\n",
        "ans=np.frompyfunc(myfunc,1,1)\n",
        "ans"
      ],
      "execution_count": null,
      "outputs": [
        {
          "output_type": "execute_result",
          "data": {
            "text/plain": [
              "<ufunc '? (vectorized)'>"
            ]
          },
          "metadata": {
            "tags": []
          },
          "execution_count": 70
        }
      ]
    },
    {
      "cell_type": "code",
      "metadata": {
        "colab": {
          "base_uri": "https://localhost:8080/"
        },
        "id": "2iDEBDCirA3_",
        "outputId": "38f43110-6ee4-455f-8d9b-ce9e44dc5319"
      },
      "source": [
        "y=np.array([12,23,34,45,56])\n",
        "e=np.frompyfunc(myfunc,1,1)\n",
        "type(e)"
      ],
      "execution_count": null,
      "outputs": [
        {
          "output_type": "execute_result",
          "data": {
            "text/plain": [
              "numpy.ufunc"
            ]
          },
          "metadata": {
            "tags": []
          },
          "execution_count": 72
        }
      ]
    },
    {
      "cell_type": "code",
      "metadata": {
        "colab": {
          "base_uri": "https://localhost:8080/"
        },
        "id": "jI2l-G9dr21t",
        "outputId": "a0cb53c5-cac8-42a0-d57d-eea58d8abe56"
      },
      "source": [
        "e(x)"
      ],
      "execution_count": null,
      "outputs": [
        {
          "output_type": "execute_result",
          "data": {
            "text/plain": [
              "array([False, True, False, True, False, True, False, True, False, True],\n",
              "      dtype=object)"
            ]
          },
          "metadata": {
            "tags": []
          },
          "execution_count": 73
        }
      ]
    },
    {
      "cell_type": "code",
      "metadata": {
        "colab": {
          "base_uri": "https://localhost:8080/"
        },
        "id": "5Ui-jrtksB_K",
        "outputId": "6b8bb44b-d460-4ba9-b26c-bc760498efcc"
      },
      "source": [
        "e(y)"
      ],
      "execution_count": null,
      "outputs": [
        {
          "output_type": "execute_result",
          "data": {
            "text/plain": [
              "array([True, False, True, False, True], dtype=object)"
            ]
          },
          "metadata": {
            "tags": []
          },
          "execution_count": 74
        }
      ]
    },
    {
      "cell_type": "code",
      "metadata": {
        "colab": {
          "base_uri": "https://localhost:8080/"
        },
        "id": "PehHg47psGJE",
        "outputId": "0b1d9cfa-b0f2-4dac-a315-05c13633c823"
      },
      "source": [
        "type(myfunc)"
      ],
      "execution_count": null,
      "outputs": [
        {
          "output_type": "execute_result",
          "data": {
            "text/plain": [
              "function"
            ]
          },
          "metadata": {
            "tags": []
          },
          "execution_count": 75
        }
      ]
    },
    {
      "cell_type": "code",
      "metadata": {
        "colab": {
          "base_uri": "https://localhost:8080/"
        },
        "id": "XPI-UmO2sQlE",
        "outputId": "9dce14d8-9321-45bc-ec2a-92ca789ee549"
      },
      "source": [
        "for i in range(np.size(x)):\n",
        "  print(myfunc(x[i]))"
      ],
      "execution_count": null,
      "outputs": [
        {
          "output_type": "stream",
          "text": [
            "False\n",
            "True\n",
            "False\n",
            "True\n",
            "False\n",
            "True\n",
            "False\n",
            "True\n",
            "False\n",
            "True\n"
          ],
          "name": "stdout"
        }
      ]
    },
    {
      "cell_type": "code",
      "metadata": {
        "id": "JoNUodW4saIV"
      },
      "source": [
        "#SEARCHING IN ARRAY"
      ],
      "execution_count": null,
      "outputs": []
    },
    {
      "cell_type": "code",
      "metadata": {
        "colab": {
          "base_uri": "https://localhost:8080/"
        },
        "id": "rQc__nqYtILd",
        "outputId": "6aa9c7b6-21b0-441b-dabc-eb56e8e6982e"
      },
      "source": [
        "x=np.arange(400,999)\n",
        "np.where(x==499)"
      ],
      "execution_count": null,
      "outputs": [
        {
          "output_type": "execute_result",
          "data": {
            "text/plain": [
              "(array([99]),)"
            ]
          },
          "metadata": {
            "tags": []
          },
          "execution_count": 83
        }
      ]
    },
    {
      "cell_type": "code",
      "metadata": {
        "colab": {
          "base_uri": "https://localhost:8080/"
        },
        "id": "LzlZrvL5tMRe",
        "outputId": "73cf7d58-b450-4929-b682-d19ca960cae7"
      },
      "source": [
        "np.where(x>550)"
      ],
      "execution_count": null,
      "outputs": [
        {
          "output_type": "execute_result",
          "data": {
            "text/plain": [
              "(array([151, 152, 153, 154, 155, 156, 157, 158, 159, 160, 161, 162, 163,\n",
              "        164, 165, 166, 167, 168, 169, 170, 171, 172, 173, 174, 175, 176,\n",
              "        177, 178, 179, 180, 181, 182, 183, 184, 185, 186, 187, 188, 189,\n",
              "        190, 191, 192, 193, 194, 195, 196, 197, 198, 199, 200, 201, 202,\n",
              "        203, 204, 205, 206, 207, 208, 209, 210, 211, 212, 213, 214, 215,\n",
              "        216, 217, 218, 219, 220, 221, 222, 223, 224, 225, 226, 227, 228,\n",
              "        229, 230, 231, 232, 233, 234, 235, 236, 237, 238, 239, 240, 241,\n",
              "        242, 243, 244, 245, 246, 247, 248, 249, 250, 251, 252, 253, 254,\n",
              "        255, 256, 257, 258, 259, 260, 261, 262, 263, 264, 265, 266, 267,\n",
              "        268, 269, 270, 271, 272, 273, 274, 275, 276, 277, 278, 279, 280,\n",
              "        281, 282, 283, 284, 285, 286, 287, 288, 289, 290, 291, 292, 293,\n",
              "        294, 295, 296, 297, 298, 299, 300, 301, 302, 303, 304, 305, 306,\n",
              "        307, 308, 309, 310, 311, 312, 313, 314, 315, 316, 317, 318, 319,\n",
              "        320, 321, 322, 323, 324, 325, 326, 327, 328, 329, 330, 331, 332,\n",
              "        333, 334, 335, 336, 337, 338, 339, 340, 341, 342, 343, 344, 345,\n",
              "        346, 347, 348, 349, 350, 351, 352, 353, 354, 355, 356, 357, 358,\n",
              "        359, 360, 361, 362, 363, 364, 365, 366, 367, 368, 369, 370, 371,\n",
              "        372, 373, 374, 375, 376, 377, 378, 379, 380, 381, 382, 383, 384,\n",
              "        385, 386, 387, 388, 389, 390, 391, 392, 393, 394, 395, 396, 397,\n",
              "        398, 399, 400, 401, 402, 403, 404, 405, 406, 407, 408, 409, 410,\n",
              "        411, 412, 413, 414, 415, 416, 417, 418, 419, 420, 421, 422, 423,\n",
              "        424, 425, 426, 427, 428, 429, 430, 431, 432, 433, 434, 435, 436,\n",
              "        437, 438, 439, 440, 441, 442, 443, 444, 445, 446, 447, 448, 449,\n",
              "        450, 451, 452, 453, 454, 455, 456, 457, 458, 459, 460, 461, 462,\n",
              "        463, 464, 465, 466, 467, 468, 469, 470, 471, 472, 473, 474, 475,\n",
              "        476, 477, 478, 479, 480, 481, 482, 483, 484, 485, 486, 487, 488,\n",
              "        489, 490, 491, 492, 493, 494, 495, 496, 497, 498, 499, 500, 501,\n",
              "        502, 503, 504, 505, 506, 507, 508, 509, 510, 511, 512, 513, 514,\n",
              "        515, 516, 517, 518, 519, 520, 521, 522, 523, 524, 525, 526, 527,\n",
              "        528, 529, 530, 531, 532, 533, 534, 535, 536, 537, 538, 539, 540,\n",
              "        541, 542, 543, 544, 545, 546, 547, 548, 549, 550, 551, 552, 553,\n",
              "        554, 555, 556, 557, 558, 559, 560, 561, 562, 563, 564, 565, 566,\n",
              "        567, 568, 569, 570, 571, 572, 573, 574, 575, 576, 577, 578, 579,\n",
              "        580, 581, 582, 583, 584, 585, 586, 587, 588, 589, 590, 591, 592,\n",
              "        593, 594, 595, 596, 597, 598]),)"
            ]
          },
          "metadata": {
            "tags": []
          },
          "execution_count": 84
        }
      ]
    },
    {
      "cell_type": "code",
      "metadata": {
        "id": "c_yQEV-WtiRq"
      },
      "source": [
        "#FAST SORTING IN NUMPY : np.sort and np.argsort\n",
        "#complexity is O(nlogn)"
      ],
      "execution_count": null,
      "outputs": []
    },
    {
      "cell_type": "code",
      "metadata": {
        "colab": {
          "base_uri": "https://localhost:8080/"
        },
        "id": "_OZkNAk2t_d5",
        "outputId": "b81193d6-017b-47fd-c76a-2a9512d1fde2"
      },
      "source": [
        "#FILTERING ARRAYS\n",
        "x=np.array([1,2,3,4,5,6])\n",
        "f=[True,False,True,False,True,False]\n",
        "x[f]"
      ],
      "execution_count": null,
      "outputs": [
        {
          "output_type": "execute_result",
          "data": {
            "text/plain": [
              "array([1, 3, 5])"
            ]
          },
          "metadata": {
            "tags": []
          },
          "execution_count": 93
        }
      ]
    },
    {
      "cell_type": "code",
      "metadata": {
        "colab": {
          "base_uri": "https://localhost:8080/"
        },
        "id": "UovmHPLRvi5u",
        "outputId": "51b53bf1-159d-4176-d71c-4e2802b43e97"
      },
      "source": [
        "x[x%2==0]"
      ],
      "execution_count": null,
      "outputs": [
        {
          "output_type": "execute_result",
          "data": {
            "text/plain": [
              "array([2, 4, 6])"
            ]
          },
          "metadata": {
            "tags": []
          },
          "execution_count": 94
        }
      ]
    },
    {
      "cell_type": "code",
      "metadata": {
        "id": "WUkfcucAvwq-"
      },
      "source": [
        "x=list(range(1,10))"
      ],
      "execution_count": null,
      "outputs": []
    },
    {
      "cell_type": "code",
      "metadata": {
        "colab": {
          "background_save": true,
          "base_uri": "https://localhost:8080/"
        },
        "id": "Hxg7BVJ7wXlg",
        "outputId": "814121ff-30f7-4e44-8261-84b2d9726f27"
      },
      "source": [
        "type(x)"
      ],
      "execution_count": null,
      "outputs": [
        {
          "output_type": "execute_result",
          "data": {
            "text/plain": [
              "list"
            ]
          },
          "metadata": {
            "tags": []
          },
          "execution_count": 0
        }
      ]
    },
    {
      "cell_type": "code",
      "metadata": {
        "id": "Jfrhm4pwwYWH"
      },
      "source": [
        "#Reshaping method"
      ],
      "execution_count": 1,
      "outputs": []
    },
    {
      "cell_type": "code",
      "metadata": {
        "id": "LVNZ_WncybCY"
      },
      "source": [
        "import numpy as np"
      ],
      "execution_count": 3,
      "outputs": []
    },
    {
      "cell_type": "code",
      "metadata": {
        "id": "Rl7hdYnvycZG"
      },
      "source": [
        "x=np.arange(1,10)"
      ],
      "execution_count": 4,
      "outputs": []
    },
    {
      "cell_type": "code",
      "metadata": {
        "colab": {
          "base_uri": "https://localhost:8080/"
        },
        "id": "dNh65eg1yr76",
        "outputId": "45d31360-6b7a-4062-cfef-ee019100bd4a"
      },
      "source": [
        "x"
      ],
      "execution_count": 5,
      "outputs": [
        {
          "output_type": "execute_result",
          "data": {
            "text/plain": [
              "array([1, 2, 3, 4, 5, 6, 7, 8, 9])"
            ]
          },
          "metadata": {
            "tags": []
          },
          "execution_count": 5
        }
      ]
    },
    {
      "cell_type": "code",
      "metadata": {
        "colab": {
          "base_uri": "https://localhost:8080/"
        },
        "id": "TuzW0Iz_ystY",
        "outputId": "1fbda650-808c-42e9-effb-0a037293b11c"
      },
      "source": [
        "x.reshape(3,3)"
      ],
      "execution_count": 6,
      "outputs": [
        {
          "output_type": "execute_result",
          "data": {
            "text/plain": [
              "array([[1, 2, 3],\n",
              "       [4, 5, 6],\n",
              "       [7, 8, 9]])"
            ]
          },
          "metadata": {
            "tags": []
          },
          "execution_count": 6
        }
      ]
    },
    {
      "cell_type": "code",
      "metadata": {
        "colab": {
          "base_uri": "https://localhost:8080/"
        },
        "id": "htWHTvD9yuTp",
        "outputId": "c5e87be3-130d-4915-8f20-67c3aca51082"
      },
      "source": [
        "y=x.reshape(3,3)\n",
        "y"
      ],
      "execution_count": 7,
      "outputs": [
        {
          "output_type": "execute_result",
          "data": {
            "text/plain": [
              "array([[1, 2, 3],\n",
              "       [4, 5, 6],\n",
              "       [7, 8, 9]])"
            ]
          },
          "metadata": {
            "tags": []
          },
          "execution_count": 7
        }
      ]
    },
    {
      "cell_type": "code",
      "metadata": {
        "colab": {
          "base_uri": "https://localhost:8080/"
        },
        "id": "_OeaXltly8jA",
        "outputId": "ed86b630-4a1f-4fcb-80c6-1abd00029b32"
      },
      "source": [
        "y.base"
      ],
      "execution_count": 9,
      "outputs": [
        {
          "output_type": "execute_result",
          "data": {
            "text/plain": [
              "array([1, 2, 3, 4, 5, 6, 7, 8, 9])"
            ]
          },
          "metadata": {
            "tags": []
          },
          "execution_count": 9
        }
      ]
    },
    {
      "cell_type": "code",
      "metadata": {
        "id": "RCOQgCIJy9ul"
      },
      "source": [
        "#flattening of array"
      ],
      "execution_count": 10,
      "outputs": []
    },
    {
      "cell_type": "code",
      "metadata": {
        "colab": {
          "base_uri": "https://localhost:8080/"
        },
        "id": "SubUKQDuzKHl",
        "outputId": "6694da3b-7749-4f4f-dc27-5a82d80acced"
      },
      "source": [
        "x= np.arange(1,10).reshape(3,3)\n",
        "x"
      ],
      "execution_count": 13,
      "outputs": [
        {
          "output_type": "execute_result",
          "data": {
            "text/plain": [
              "array([[1, 2, 3],\n",
              "       [4, 5, 6],\n",
              "       [7, 8, 9]])"
            ]
          },
          "metadata": {
            "tags": []
          },
          "execution_count": 13
        }
      ]
    },
    {
      "cell_type": "code",
      "metadata": {
        "colab": {
          "base_uri": "https://localhost:8080/"
        },
        "id": "zYzpFOVVzMhE",
        "outputId": "76d12bce-10f6-472c-e94b-de5a325f29e8"
      },
      "source": [
        "x.reshape(-1) # -1 is passed"
      ],
      "execution_count": 15,
      "outputs": [
        {
          "output_type": "execute_result",
          "data": {
            "text/plain": [
              "array([1, 2, 3, 4, 5, 6, 7, 8, 9])"
            ]
          },
          "metadata": {
            "tags": []
          },
          "execution_count": 15
        }
      ]
    },
    {
      "cell_type": "code",
      "metadata": {
        "id": "whtZBBCyzbWr"
      },
      "source": [
        "#transpose of array"
      ],
      "execution_count": 17,
      "outputs": []
    },
    {
      "cell_type": "code",
      "metadata": {
        "colab": {
          "base_uri": "https://localhost:8080/"
        },
        "id": "6XOGizymze19",
        "outputId": "93c55e01-f61f-4565-b4ed-d55e3a73cdad"
      },
      "source": [
        "x"
      ],
      "execution_count": 18,
      "outputs": [
        {
          "output_type": "execute_result",
          "data": {
            "text/plain": [
              "array([[1, 2, 3],\n",
              "       [4, 5, 6],\n",
              "       [7, 8, 9]])"
            ]
          },
          "metadata": {
            "tags": []
          },
          "execution_count": 18
        }
      ]
    },
    {
      "cell_type": "code",
      "metadata": {
        "colab": {
          "base_uri": "https://localhost:8080/"
        },
        "id": "HulbAAVJzhlL",
        "outputId": "4f3f1737-685f-4988-cf80-6192dba8d496"
      },
      "source": [
        "x.T #transpose"
      ],
      "execution_count": 20,
      "outputs": [
        {
          "output_type": "execute_result",
          "data": {
            "text/plain": [
              "array([[1, 4, 7],\n",
              "       [2, 5, 8],\n",
              "       [3, 6, 9]])"
            ]
          },
          "metadata": {
            "tags": []
          },
          "execution_count": 20
        }
      ]
    },
    {
      "cell_type": "code",
      "metadata": {
        "id": "wAEc_IJ6zigs"
      },
      "source": [
        "#rotation of array\n",
        "#numpy.rot90(m,k=1,axes=(0,1))\n",
        "# three parameters\n",
        "#m - array\n",
        "#k - \n",
        "#axes - "
      ],
      "execution_count": 23,
      "outputs": []
    },
    {
      "cell_type": "code",
      "metadata": {
        "colab": {
          "base_uri": "https://localhost:8080/"
        },
        "id": "-AajesObz6Nj",
        "outputId": "8c0be964-3a1d-4186-b1cb-4b408eb27193"
      },
      "source": [
        "x"
      ],
      "execution_count": 29,
      "outputs": [
        {
          "output_type": "execute_result",
          "data": {
            "text/plain": [
              "array([[1, 2, 3],\n",
              "       [4, 5, 6],\n",
              "       [7, 8, 9]])"
            ]
          },
          "metadata": {
            "tags": []
          },
          "execution_count": 29
        }
      ]
    },
    {
      "cell_type": "code",
      "metadata": {
        "id": "Un60kE12z4HH"
      },
      "source": [
        "y = np.rot90(x)"
      ],
      "execution_count": 30,
      "outputs": []
    },
    {
      "cell_type": "code",
      "metadata": {
        "colab": {
          "base_uri": "https://localhost:8080/"
        },
        "id": "nUl89dtq0Y8C",
        "outputId": "c0ae1514-9532-4ac2-f7aa-06a0efb59c84"
      },
      "source": [
        "y"
      ],
      "execution_count": 31,
      "outputs": [
        {
          "output_type": "execute_result",
          "data": {
            "text/plain": [
              "array([[3, 6, 9],\n",
              "       [2, 5, 8],\n",
              "       [1, 4, 7]])"
            ]
          },
          "metadata": {
            "tags": []
          },
          "execution_count": 31
        }
      ]
    },
    {
      "cell_type": "code",
      "metadata": {
        "colab": {
          "base_uri": "https://localhost:8080/"
        },
        "id": "cdSiBm280gg1",
        "outputId": "a864ce1e-56d2-4aa8-efc4-68c21cdb5bdc"
      },
      "source": [
        "y= np.rot90(x,k=2)\n",
        "y"
      ],
      "execution_count": 33,
      "outputs": [
        {
          "output_type": "execute_result",
          "data": {
            "text/plain": [
              "array([[9, 8, 7],\n",
              "       [6, 5, 4],\n",
              "       [3, 2, 1]])"
            ]
          },
          "metadata": {
            "tags": []
          },
          "execution_count": 33
        }
      ]
    },
    {
      "cell_type": "code",
      "metadata": {
        "id": "MQLZn_4p0kQG"
      },
      "source": [
        "#joining of arrays\n",
        "# np.concatenate\n",
        "# np.vstack - row wise\n",
        "# np.hstack - column wise stacking"
      ],
      "execution_count": 35,
      "outputs": []
    },
    {
      "cell_type": "code",
      "metadata": {
        "colab": {
          "base_uri": "https://localhost:8080/"
        },
        "id": "c7lF3Cg_0xiV",
        "outputId": "48ecc3bb-21c8-46f8-b1b3-a99a2ec32417"
      },
      "source": [
        "x1 = np.arange(1,10).reshape(3,3)\n",
        "x1"
      ],
      "execution_count": 37,
      "outputs": [
        {
          "output_type": "execute_result",
          "data": {
            "text/plain": [
              "array([[1, 2, 3],\n",
              "       [4, 5, 6],\n",
              "       [7, 8, 9]])"
            ]
          },
          "metadata": {
            "tags": []
          },
          "execution_count": 37
        }
      ]
    },
    {
      "cell_type": "code",
      "metadata": {
        "colab": {
          "base_uri": "https://localhost:8080/"
        },
        "id": "AuatbLAj1Gig",
        "outputId": "34c8351e-644f-4a1b-a91b-341a3c5866f1"
      },
      "source": [
        "x2 = np.arange(21,30).reshape(3,3)\n",
        "x2"
      ],
      "execution_count": 39,
      "outputs": [
        {
          "output_type": "execute_result",
          "data": {
            "text/plain": [
              "array([[21, 22, 23],\n",
              "       [24, 25, 26],\n",
              "       [27, 28, 29]])"
            ]
          },
          "metadata": {
            "tags": []
          },
          "execution_count": 39
        }
      ]
    },
    {
      "cell_type": "code",
      "metadata": {
        "colab": {
          "base_uri": "https://localhost:8080/"
        },
        "id": "-8_NGlZt1Mki",
        "outputId": "59fd536a-b85b-4bde-b6a2-e9903f4ad594"
      },
      "source": [
        "np.concatenate((x1,x2),axis=0)"
      ],
      "execution_count": 40,
      "outputs": [
        {
          "output_type": "execute_result",
          "data": {
            "text/plain": [
              "array([[ 1,  2,  3],\n",
              "       [ 4,  5,  6],\n",
              "       [ 7,  8,  9],\n",
              "       [21, 22, 23],\n",
              "       [24, 25, 26],\n",
              "       [27, 28, 29]])"
            ]
          },
          "metadata": {
            "tags": []
          },
          "execution_count": 40
        }
      ]
    },
    {
      "cell_type": "code",
      "metadata": {
        "colab": {
          "base_uri": "https://localhost:8080/"
        },
        "id": "m8H0UiAz1ft7",
        "outputId": "66a725d8-a0b1-4340-d8ab-3320f26e4c18"
      },
      "source": [
        "np.concatenate((x1,x2),axis=1)"
      ],
      "execution_count": 41,
      "outputs": [
        {
          "output_type": "execute_result",
          "data": {
            "text/plain": [
              "array([[ 1,  2,  3, 21, 22, 23],\n",
              "       [ 4,  5,  6, 24, 25, 26],\n",
              "       [ 7,  8,  9, 27, 28, 29]])"
            ]
          },
          "metadata": {
            "tags": []
          },
          "execution_count": 41
        }
      ]
    },
    {
      "cell_type": "code",
      "metadata": {
        "colab": {
          "base_uri": "https://localhost:8080/"
        },
        "id": "AlcgfJ-I1ywb",
        "outputId": "7f5b8520-7420-42e2-8daa-9f0e53c39cfe"
      },
      "source": [
        "x1 = np.arange(1,11).reshape(2,5)\n",
        "x1"
      ],
      "execution_count": 43,
      "outputs": [
        {
          "output_type": "execute_result",
          "data": {
            "text/plain": [
              "array([[ 1,  2,  3,  4,  5],\n",
              "       [ 6,  7,  8,  9, 10]])"
            ]
          },
          "metadata": {
            "tags": []
          },
          "execution_count": 43
        }
      ]
    },
    {
      "cell_type": "code",
      "metadata": {
        "colab": {
          "base_uri": "https://localhost:8080/"
        },
        "id": "rDMF1INH13YQ",
        "outputId": "802216d9-5f47-4e9a-afc9-b8c453fbd082"
      },
      "source": [
        "x2 = np.arange(21,31).reshape(5,2)\n",
        "x2"
      ],
      "execution_count": 44,
      "outputs": [
        {
          "output_type": "execute_result",
          "data": {
            "text/plain": [
              "array([[21, 22],\n",
              "       [23, 24],\n",
              "       [25, 26],\n",
              "       [27, 28],\n",
              "       [29, 30]])"
            ]
          },
          "metadata": {
            "tags": []
          },
          "execution_count": 44
        }
      ]
    },
    {
      "cell_type": "code",
      "metadata": {
        "colab": {
          "base_uri": "https://localhost:8080/",
          "height": 262
        },
        "id": "C8flaD4A1_xq",
        "outputId": "4d2d8b5f-3f2c-4af5-efe7-5132bc6258d4"
      },
      "source": [
        "np.concatenate((x1,x2),axis = 0)\n",
        "#this means that this can be used only when axis matches..\n",
        "# 2 x 5 and 5 X 2 == then it cant be done! ( for axis 0)\n",
        "# but for axis 1 it can be done\n",
        "#either row or column should be same"
      ],
      "execution_count": 47,
      "outputs": [
        {
          "output_type": "error",
          "ename": "ValueError",
          "evalue": "ignored",
          "traceback": [
            "\u001b[0;31m---------------------------------------------------------------------------\u001b[0m",
            "\u001b[0;31mValueError\u001b[0m                                Traceback (most recent call last)",
            "\u001b[0;32m<ipython-input-47-054fad14e349>\u001b[0m in \u001b[0;36m<module>\u001b[0;34m()\u001b[0m\n\u001b[0;32m----> 1\u001b[0;31m \u001b[0mnp\u001b[0m\u001b[0;34m.\u001b[0m\u001b[0mconcatenate\u001b[0m\u001b[0;34m(\u001b[0m\u001b[0;34m(\u001b[0m\u001b[0mx1\u001b[0m\u001b[0;34m,\u001b[0m\u001b[0mx2\u001b[0m\u001b[0;34m)\u001b[0m\u001b[0;34m,\u001b[0m\u001b[0maxis\u001b[0m \u001b[0;34m=\u001b[0m \u001b[0;36m0\u001b[0m\u001b[0;34m)\u001b[0m\u001b[0;34m\u001b[0m\u001b[0;34m\u001b[0m\u001b[0m\n\u001b[0m\u001b[1;32m      2\u001b[0m \u001b[0;31m#this means that this can be used only when axis matches..\u001b[0m\u001b[0;34m\u001b[0m\u001b[0;34m\u001b[0m\u001b[0;34m\u001b[0m\u001b[0m\n\u001b[1;32m      3\u001b[0m \u001b[0;31m# 2 x 5 and 5 X 2 == then it cant be done! ( for axis 0)\u001b[0m\u001b[0;34m\u001b[0m\u001b[0;34m\u001b[0m\u001b[0;34m\u001b[0m\u001b[0m\n\u001b[1;32m      4\u001b[0m \u001b[0;31m# but for axis 1 it can be done\u001b[0m\u001b[0;34m\u001b[0m\u001b[0;34m\u001b[0m\u001b[0;34m\u001b[0m\u001b[0m\n\u001b[1;32m      5\u001b[0m \u001b[0;31m#either row or column should be same\u001b[0m\u001b[0;34m\u001b[0m\u001b[0;34m\u001b[0m\u001b[0;34m\u001b[0m\u001b[0m\n",
            "\u001b[0;32m<__array_function__ internals>\u001b[0m in \u001b[0;36mconcatenate\u001b[0;34m(*args, **kwargs)\u001b[0m\n",
            "\u001b[0;31mValueError\u001b[0m: all the input array dimensions for the concatenation axis must match exactly, but along dimension 1, the array at index 0 has size 5 and the array at index 1 has size 2"
          ]
        }
      ]
    },
    {
      "cell_type": "code",
      "metadata": {
        "colab": {
          "base_uri": "https://localhost:8080/"
        },
        "id": "CU_yLFPy2Ko0",
        "outputId": "1df6957a-c690-438e-b98b-25c17629abc4"
      },
      "source": [
        "x1 = np.arange(1,9).reshape(2,4)\n",
        "x1"
      ],
      "execution_count": 48,
      "outputs": [
        {
          "output_type": "execute_result",
          "data": {
            "text/plain": [
              "array([[1, 2, 3, 4],\n",
              "       [5, 6, 7, 8]])"
            ]
          },
          "metadata": {
            "tags": []
          },
          "execution_count": 48
        }
      ]
    },
    {
      "cell_type": "code",
      "metadata": {
        "colab": {
          "base_uri": "https://localhost:8080/"
        },
        "id": "CUO8GSTK2ozn",
        "outputId": "7675afb6-5073-4d3e-8f21-58910c977660"
      },
      "source": [
        "x2 = np.arange(1,11).reshape(2,5)\n",
        "x2"
      ],
      "execution_count": 49,
      "outputs": [
        {
          "output_type": "execute_result",
          "data": {
            "text/plain": [
              "array([[ 1,  2,  3,  4,  5],\n",
              "       [ 6,  7,  8,  9, 10]])"
            ]
          },
          "metadata": {
            "tags": []
          },
          "execution_count": 49
        }
      ]
    },
    {
      "cell_type": "code",
      "metadata": {
        "colab": {
          "base_uri": "https://localhost:8080/"
        },
        "id": "JUTni27d2wN3",
        "outputId": "01061ecf-c273-4392-80fa-af897a193bfc"
      },
      "source": [
        "# x1 and x2 can be concatenated through axis 1\n",
        "np.concatenate((x1,x2),axis =1)"
      ],
      "execution_count": 51,
      "outputs": [
        {
          "output_type": "execute_result",
          "data": {
            "text/plain": [
              "array([[ 1,  2,  3,  4,  1,  2,  3,  4,  5],\n",
              "       [ 5,  6,  7,  8,  6,  7,  8,  9, 10]])"
            ]
          },
          "metadata": {
            "tags": []
          },
          "execution_count": 51
        }
      ]
    },
    {
      "cell_type": "code",
      "metadata": {
        "colab": {
          "base_uri": "https://localhost:8080/"
        },
        "id": "tykq1MU621tl",
        "outputId": "2397cbb1-a541-4b6e-998d-1af4a7e82c6b"
      },
      "source": [
        "x1"
      ],
      "execution_count": 52,
      "outputs": [
        {
          "output_type": "execute_result",
          "data": {
            "text/plain": [
              "array([[1, 2, 3, 4],\n",
              "       [5, 6, 7, 8]])"
            ]
          },
          "metadata": {
            "tags": []
          },
          "execution_count": 52
        }
      ]
    },
    {
      "cell_type": "code",
      "metadata": {
        "colab": {
          "base_uri": "https://localhost:8080/"
        },
        "id": "BKv2Yph-3d5e",
        "outputId": "e266baf5-6417-402a-a5ea-8ec184fa30fa"
      },
      "source": [
        "x2"
      ],
      "execution_count": 53,
      "outputs": [
        {
          "output_type": "execute_result",
          "data": {
            "text/plain": [
              "array([[ 1,  2,  3,  4,  5],\n",
              "       [ 6,  7,  8,  9, 10]])"
            ]
          },
          "metadata": {
            "tags": []
          },
          "execution_count": 53
        }
      ]
    },
    {
      "cell_type": "code",
      "metadata": {
        "colab": {
          "base_uri": "https://localhost:8080/"
        },
        "id": "0GiFNHzP3fAA",
        "outputId": "ea5003d6-8de4-48e7-a845-9d03d0a774eb"
      },
      "source": [
        "np.hstack((x1,x2))"
      ],
      "execution_count": 56,
      "outputs": [
        {
          "output_type": "execute_result",
          "data": {
            "text/plain": [
              "array([[ 1,  2,  3,  4,  1,  2,  3,  4,  5],\n",
              "       [ 5,  6,  7,  8,  6,  7,  8,  9, 10]])"
            ]
          },
          "metadata": {
            "tags": []
          },
          "execution_count": 56
        }
      ]
    },
    {
      "cell_type": "code",
      "metadata": {
        "id": "IHOCqT0L4g2p"
      },
      "source": [
        "#splitting in array"
      ],
      "execution_count": 61,
      "outputs": []
    },
    {
      "cell_type": "code",
      "metadata": {
        "colab": {
          "base_uri": "https://localhost:8080/"
        },
        "id": "12sVYb8c3lXq",
        "outputId": "ef7ddf79-b655-455f-bc95-910e9df4890e"
      },
      "source": [
        "x = np.arange(1,10).reshape(3,3)\n",
        "x"
      ],
      "execution_count": 62,
      "outputs": [
        {
          "output_type": "execute_result",
          "data": {
            "text/plain": [
              "array([[1, 2, 3],\n",
              "       [4, 5, 6],\n",
              "       [7, 8, 9]])"
            ]
          },
          "metadata": {
            "tags": []
          },
          "execution_count": 62
        }
      ]
    },
    {
      "cell_type": "code",
      "metadata": {
        "colab": {
          "base_uri": "https://localhost:8080/"
        },
        "id": "swdlYevG317p",
        "outputId": "913959da-5f31-4533-d33c-ab8a050e43ab"
      },
      "source": [
        "np.split(x, 3)"
      ],
      "execution_count": 64,
      "outputs": [
        {
          "output_type": "execute_result",
          "data": {
            "text/plain": [
              "[array([[1, 2, 3]]), array([[4, 5, 6]]), array([[7, 8, 9]])]"
            ]
          },
          "metadata": {
            "tags": []
          },
          "execution_count": 64
        }
      ]
    },
    {
      "cell_type": "code",
      "metadata": {
        "colab": {
          "base_uri": "https://localhost:8080/"
        },
        "id": "bf4Pl8yH4ey4",
        "outputId": "b1d2fd16-e8da-49f2-8bd2-6a0bb3a2efdf"
      },
      "source": [
        "x"
      ],
      "execution_count": 65,
      "outputs": [
        {
          "output_type": "execute_result",
          "data": {
            "text/plain": [
              "array([[1, 2, 3],\n",
              "       [4, 5, 6],\n",
              "       [7, 8, 9]])"
            ]
          },
          "metadata": {
            "tags": []
          },
          "execution_count": 65
        }
      ]
    },
    {
      "cell_type": "code",
      "metadata": {
        "colab": {
          "base_uri": "https://localhost:8080/"
        },
        "id": "tosNtcFx5GZW",
        "outputId": "c6950c8c-c1b6-46dd-b8f5-aa4f0a60c6d1"
      },
      "source": [
        "x = np.arange(1,13).reshape(2,6)\n",
        "x"
      ],
      "execution_count": 66,
      "outputs": [
        {
          "output_type": "execute_result",
          "data": {
            "text/plain": [
              "array([[ 1,  2,  3,  4,  5,  6],\n",
              "       [ 7,  8,  9, 10, 11, 12]])"
            ]
          },
          "metadata": {
            "tags": []
          },
          "execution_count": 66
        }
      ]
    },
    {
      "cell_type": "code",
      "metadata": {
        "colab": {
          "base_uri": "https://localhost:8080/"
        },
        "id": "ANg05j5Z5NVv",
        "outputId": "7fb47bbb-3d92-4337-d7dd-939ec8a1bf59"
      },
      "source": [
        "np.split(x,[3,4], axis =1) #x[0:3], x[3:4], x[4:]"
      ],
      "execution_count": 69,
      "outputs": [
        {
          "output_type": "execute_result",
          "data": {
            "text/plain": [
              "[array([[1, 2, 3],\n",
              "        [7, 8, 9]]), array([[ 4],\n",
              "        [10]]), array([[ 5,  6],\n",
              "        [11, 12]])]"
            ]
          },
          "metadata": {
            "tags": []
          },
          "execution_count": 69
        }
      ]
    },
    {
      "cell_type": "code",
      "metadata": {
        "colab": {
          "base_uri": "https://localhost:8080/"
        },
        "id": "yTlJNhIX5dwu",
        "outputId": "ab09bc31-5e09-4fec-dcfe-495053eb68f3"
      },
      "source": [
        "x = np.arange(1,13).reshape(6,2)\n",
        "x"
      ],
      "execution_count": 70,
      "outputs": [
        {
          "output_type": "execute_result",
          "data": {
            "text/plain": [
              "array([[ 1,  2],\n",
              "       [ 3,  4],\n",
              "       [ 5,  6],\n",
              "       [ 7,  8],\n",
              "       [ 9, 10],\n",
              "       [11, 12]])"
            ]
          },
          "metadata": {
            "tags": []
          },
          "execution_count": 70
        }
      ]
    },
    {
      "cell_type": "code",
      "metadata": {
        "colab": {
          "base_uri": "https://localhost:8080/"
        },
        "id": "WTRBdhKH53NA",
        "outputId": "d3f899c5-87af-4135-c904-52b68fede7fa"
      },
      "source": [
        "np.split(x,6)"
      ],
      "execution_count": 73,
      "outputs": [
        {
          "output_type": "execute_result",
          "data": {
            "text/plain": [
              "[array([[1, 2]]),\n",
              " array([[3, 4]]),\n",
              " array([[5, 6]]),\n",
              " array([[7, 8]]),\n",
              " array([[ 9, 10]]),\n",
              " array([[11, 12]])]"
            ]
          },
          "metadata": {
            "tags": []
          },
          "execution_count": 73
        }
      ]
    },
    {
      "cell_type": "code",
      "metadata": {
        "colab": {
          "base_uri": "https://localhost:8080/"
        },
        "id": "mCCPqmMH6JCI",
        "outputId": "05d2ab35-eb82-47ce-f445-a24625d172f4"
      },
      "source": [
        "np.split(x,[3,5]) # x[0:3], x[3:5] , x[5:]"
      ],
      "execution_count": 74,
      "outputs": [
        {
          "output_type": "execute_result",
          "data": {
            "text/plain": [
              "[array([[1, 2],\n",
              "        [3, 4],\n",
              "        [5, 6]]), array([[ 7,  8],\n",
              "        [ 9, 10]]), array([[11, 12]])]"
            ]
          },
          "metadata": {
            "tags": []
          },
          "execution_count": 74
        }
      ]
    },
    {
      "cell_type": "code",
      "metadata": {
        "id": "mdpY5Df46dU7"
      },
      "source": [
        "# numpy.hsplit()\n",
        "#split a array into multiplle sub array horizontally\n",
        "# np.hsplit()\n"
      ],
      "execution_count": 75,
      "outputs": []
    },
    {
      "cell_type": "code",
      "metadata": {
        "colab": {
          "base_uri": "https://localhost:8080/"
        },
        "id": "cKtMtqGI60Ui",
        "outputId": "6edb3c13-53d4-48c4-e71f-eb5069cbb504"
      },
      "source": [
        "x"
      ],
      "execution_count": 76,
      "outputs": [
        {
          "output_type": "execute_result",
          "data": {
            "text/plain": [
              "array([[ 1,  2],\n",
              "       [ 3,  4],\n",
              "       [ 5,  6],\n",
              "       [ 7,  8],\n",
              "       [ 9, 10],\n",
              "       [11, 12]])"
            ]
          },
          "metadata": {
            "tags": []
          },
          "execution_count": 76
        }
      ]
    },
    {
      "cell_type": "code",
      "metadata": {
        "colab": {
          "base_uri": "https://localhost:8080/"
        },
        "id": "Sb7znsJk60my",
        "outputId": "4c31ccc5-9420-483b-da72-a367ae1f2ece"
      },
      "source": [
        "np.hsplit(x,2)"
      ],
      "execution_count": 77,
      "outputs": [
        {
          "output_type": "execute_result",
          "data": {
            "text/plain": [
              "[array([[ 1],\n",
              "        [ 3],\n",
              "        [ 5],\n",
              "        [ 7],\n",
              "        [ 9],\n",
              "        [11]]), array([[ 2],\n",
              "        [ 4],\n",
              "        [ 6],\n",
              "        [ 8],\n",
              "        [10],\n",
              "        [12]])]"
            ]
          },
          "metadata": {
            "tags": []
          },
          "execution_count": 77
        }
      ]
    },
    {
      "cell_type": "code",
      "metadata": {
        "colab": {
          "base_uri": "https://localhost:8080/"
        },
        "id": "Nu7L9b4r64Lw",
        "outputId": "11203e84-2f8e-4968-dd57-9a3f307010f8"
      },
      "source": [
        "np.vsplit(x,2)"
      ],
      "execution_count": 78,
      "outputs": [
        {
          "output_type": "execute_result",
          "data": {
            "text/plain": [
              "[array([[1, 2],\n",
              "        [3, 4],\n",
              "        [5, 6]]), array([[ 7,  8],\n",
              "        [ 9, 10],\n",
              "        [11, 12]])]"
            ]
          },
          "metadata": {
            "tags": []
          },
          "execution_count": 78
        }
      ]
    },
    {
      "cell_type": "code",
      "metadata": {
        "colab": {
          "base_uri": "https://localhost:8080/"
        },
        "id": "K-0BoB9r7A0c",
        "outputId": "3fa8bec0-dd08-4198-da9d-c766c12f0abd"
      },
      "source": [
        "np.vsplit(x,3)"
      ],
      "execution_count": 79,
      "outputs": [
        {
          "output_type": "execute_result",
          "data": {
            "text/plain": [
              "[array([[1, 2],\n",
              "        [3, 4]]), array([[5, 6],\n",
              "        [7, 8]]), array([[ 9, 10],\n",
              "        [11, 12]])]"
            ]
          },
          "metadata": {
            "tags": []
          },
          "execution_count": 79
        }
      ]
    },
    {
      "cell_type": "code",
      "metadata": {
        "id": "0pM_kwQc7I5_"
      },
      "source": [
        "# vsplit same as x=1\n",
        "# hsplit same as x=0"
      ],
      "execution_count": 80,
      "outputs": []
    },
    {
      "cell_type": "code",
      "metadata": {
        "colab": {
          "base_uri": "https://localhost:8080/",
          "height": 35
        },
        "id": "Kln83pDR7Ph5",
        "outputId": "e6367a22-15ad-4bdb-f8ef-85440e2f2604"
      },
      "source": [
        ""
      ],
      "execution_count": 81,
      "outputs": [
        {
          "output_type": "execute_result",
          "data": {
            "application/vnd.google.colaboratory.intrinsic+json": {
              "type": "string"
            },
            "text/plain": [
              "'\\nbool_ \\nint_\\nintc_\\nintp_\\n'"
            ]
          },
          "metadata": {
            "tags": []
          },
          "execution_count": 81
        }
      ]
    },
    {
      "cell_type": "markdown",
      "metadata": {
        "id": "osOwHKPr7bpI"
      },
      "source": [
        "#data types in ndarrays\n",
        "\n",
        "bool_ \n",
        "int_\n",
        "intc_\n",
        "intp_\n",
        ".\n",
        ".\n",
        ".\n",
        "."
      ]
    },
    {
      "cell_type": "code",
      "metadata": {
        "colab": {
          "base_uri": "https://localhost:8080/"
        },
        "id": "Ju6hXBME7XJ_",
        "outputId": "23e92382-d825-4617-d01a-05d910a9def2"
      },
      "source": [
        "x = np.arange(1,11)\n",
        "x"
      ],
      "execution_count": 86,
      "outputs": [
        {
          "output_type": "execute_result",
          "data": {
            "text/plain": [
              "array([ 1,  2,  3,  4,  5,  6,  7,  8,  9, 10])"
            ]
          },
          "metadata": {
            "tags": []
          },
          "execution_count": 86
        }
      ]
    },
    {
      "cell_type": "code",
      "metadata": {
        "colab": {
          "base_uri": "https://localhost:8080/"
        },
        "id": "yzI7UGK37hvr",
        "outputId": "6f081737-f8b8-4936-9821-64ece107d6fc"
      },
      "source": [
        "x.dtype"
      ],
      "execution_count": 87,
      "outputs": [
        {
          "output_type": "execute_result",
          "data": {
            "text/plain": [
              "dtype('int64')"
            ]
          },
          "metadata": {
            "tags": []
          },
          "execution_count": 87
        }
      ]
    },
    {
      "cell_type": "code",
      "metadata": {
        "colab": {
          "base_uri": "https://localhost:8080/"
        },
        "id": "7I39_1SY7mEE",
        "outputId": "13bc7c19-497a-4fe1-b2d8-cb00432e3a66"
      },
      "source": [
        "#to cast to any numoy datatype\n",
        "y = x.astype(np.int8)\n",
        "y"
      ],
      "execution_count": 90,
      "outputs": [
        {
          "output_type": "execute_result",
          "data": {
            "text/plain": [
              "array([ 1,  2,  3,  4,  5,  6,  7,  8,  9, 10], dtype=int8)"
            ]
          },
          "metadata": {
            "tags": []
          },
          "execution_count": 90
        }
      ]
    },
    {
      "cell_type": "code",
      "metadata": {
        "colab": {
          "base_uri": "https://localhost:8080/"
        },
        "id": "KA_8OraU7tNW",
        "outputId": "10245d6e-b94e-4d33-c30e-36efd5d31b63"
      },
      "source": [
        "# casting\n",
        "x = np.array([1,2,3,4])\n",
        "y = x.astype(np.int32)\n",
        "y\n"
      ],
      "execution_count": 91,
      "outputs": [
        {
          "output_type": "execute_result",
          "data": {
            "text/plain": [
              "array([1, 2, 3, 4], dtype=int32)"
            ]
          },
          "metadata": {
            "tags": []
          },
          "execution_count": 91
        }
      ]
    },
    {
      "cell_type": "code",
      "metadata": {
        "colab": {
          "base_uri": "https://localhost:8080/"
        },
        "id": "7lx_9Zcp9E-W",
        "outputId": "3bff383c-31ec-4e93-c285-db659360677f"
      },
      "source": [
        "x= np.array([12332434456656,99999999,455456546])\n",
        "x"
      ],
      "execution_count": 92,
      "outputs": [
        {
          "output_type": "execute_result",
          "data": {
            "text/plain": [
              "array([12332434456656,       99999999,      455456546])"
            ]
          },
          "metadata": {
            "tags": []
          },
          "execution_count": 92
        }
      ]
    },
    {
      "cell_type": "code",
      "metadata": {
        "colab": {
          "base_uri": "https://localhost:8080/"
        },
        "id": "Zb4bu4Vs9NPG",
        "outputId": "169d1a2e-2b8c-462a-b161-79fc31963d0a"
      },
      "source": [
        "x.dtype"
      ],
      "execution_count": 94,
      "outputs": [
        {
          "output_type": "execute_result",
          "data": {
            "text/plain": [
              "dtype('int64')"
            ]
          },
          "metadata": {
            "tags": []
          },
          "execution_count": 94
        }
      ]
    },
    {
      "cell_type": "code",
      "metadata": {
        "colab": {
          "base_uri": "https://localhost:8080/"
        },
        "id": "Nb5OfoIu9Plb",
        "outputId": "780d12c9-8f87-4464-85f0-b7f6f5b3e324"
      },
      "source": [
        "y = np.array([1,2,3])\n",
        "y.dtype"
      ],
      "execution_count": 95,
      "outputs": [
        {
          "output_type": "execute_result",
          "data": {
            "text/plain": [
              "dtype('int64')"
            ]
          },
          "metadata": {
            "tags": []
          },
          "execution_count": 95
        }
      ]
    },
    {
      "cell_type": "code",
      "metadata": {
        "colab": {
          "base_uri": "https://localhost:8080/"
        },
        "id": "v80egkZO9UqY",
        "outputId": "5b06cc6b-45d7-4bc9-e589-c2961c5695e1"
      },
      "source": [
        "x = np.arange(1,10)\n",
        "y = np.array([1,3,5,3,5,4,17,8,11])\n",
        "x<y"
      ],
      "execution_count": 98,
      "outputs": [
        {
          "output_type": "execute_result",
          "data": {
            "text/plain": [
              "array([False,  True,  True, False, False, False,  True, False,  True])"
            ]
          },
          "metadata": {
            "tags": []
          },
          "execution_count": 98
        }
      ]
    },
    {
      "cell_type": "code",
      "metadata": {
        "colab": {
          "base_uri": "https://localhost:8080/"
        },
        "id": "_rvqLpZj-TLy",
        "outputId": "8bde5cad-40c1-42a3-ef9b-84a4a59487e1"
      },
      "source": [
        "x*y"
      ],
      "execution_count": 99,
      "outputs": [
        {
          "output_type": "execute_result",
          "data": {
            "text/plain": [
              "array([  1,   6,  15,  12,  25,  24, 119,  64,  99])"
            ]
          },
          "metadata": {
            "tags": []
          },
          "execution_count": 99
        }
      ]
    },
    {
      "cell_type": "code",
      "metadata": {
        "colab": {
          "base_uri": "https://localhost:8080/"
        },
        "id": "FfThkl8y-bp2",
        "outputId": "5e552516-9279-4497-a53b-023ea63b7836"
      },
      "source": [
        "x==y"
      ],
      "execution_count": 100,
      "outputs": [
        {
          "output_type": "execute_result",
          "data": {
            "text/plain": [
              "array([ True, False, False, False,  True, False, False,  True, False])"
            ]
          },
          "metadata": {
            "tags": []
          },
          "execution_count": 100
        }
      ]
    },
    {
      "cell_type": "code",
      "metadata": {
        "id": "y7WZaJA4-dOT"
      },
      "source": [
        ""
      ],
      "execution_count": null,
      "outputs": []
    }
  ]
}